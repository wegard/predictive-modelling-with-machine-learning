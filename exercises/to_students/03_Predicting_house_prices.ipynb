{
 "cells": [
  {
   "cell_type": "markdown",
   "source": [
    "# Exercise 03: Predicting house prices\n",
    "\n",
    "### GRA 4160\n",
    "\n",
    "Data: https://www.kaggle.com/c/house-prices-advanced-regression-techniques\n",
    "\n",
    "The dataset is taken from a Kaggle competition, and it contains information about houses in Ames, Iowa.\n",
    "The goal of the competition was to predict the sale price of a house based on various features of the house.\n",
    "\n",
    "The dataset includes the following information:\n",
    "\n",
    "1. SalePrice: the sale price of the house (the target variable)\n",
    "2. Various features of the house such as the overall quality, the living area, the number of bedrooms and bathrooms, the year built, etc.\n",
    "3. Various features of the neighborhood such as the overall condition of the property, the proximity to various amenities, etc.\n",
    "\n",
    "The dataset includes 1460 observations (houses) and 81 variables (features). The variables include both numerical and categorical variables.\n",
    "\n",
    "Some numerical variables are continuous, while others are discrete and some categorical variables are ordinal (natural ordering among the categories), while others are nominal (do not have any inherent ordering).\n",
    "\n",
    "The dataset is a good example of a real-world dataset that requires feature engineering, cleaning, and preprocessing before the model can be trained on it.\n",
    "There are missing values and outliers in the dataset that you must deal with."
   ],
   "metadata": {
    "collapsed": false
   }
  },
  {
   "cell_type": "markdown",
   "source": [
    "## Exercises:\n",
    "\n",
    "1. Load the house price dataset. Have a look at its variables. What do you think are the best predictors for the sale price?\n",
    "2. Split the data into a training and a test set (create the variables `X_train`, `X_test`, `y_train`, `y_test`).\n",
    "3. Do some data cleaning and preprocessing:\n",
    "   a. At least keep the numerical columns and drop the missing values.\n",
    "   b. Normalize the data (e.g., make all columns into mean zero with a standard deviation of one).\n",
    "4. Train a model for predicting the house price using the numerical columns of the dataset. Report both the in-sample and the out-of-sample performance of the model. Report at least the Mean Squared Error (MSE) and the $R^2$.\n",
    "5. Do the same using Ridge and Lasso models.\n",
    "6. Use the Lasso algorithm to identify the 10 most important features in the data set. Tips: You can use the `from sklearn.feature_selection import SelectFromModel` method.\n",
    "7. Train a linear regression model where you only include the 10 most important features you found in 6. Report at least the Mean Squared Error (MSE) and $R^2$.\n",
    "8. Write some code so that you can experiment with how changing the inputs affect the predicted price. You can for example write a function that takes a vector of not normalized features for one or more units as inputs and then the function returns the predicted price for these units. Make your code so that you can pass in training data that is not normalized (data should be normalized before making the prediction). The price that the function returns should not be normalized. Try to change some futures (one by one) and see how the price predictions change."
   ],
   "metadata": {
    "collapsed": false
   }
  }
 ],
 "metadata": {
  "kernelspec": {
   "display_name": "Python 3",
   "language": "python",
   "name": "python3"
  },
  "language_info": {
   "codemirror_mode": {
    "name": "ipython",
    "version": 2
   },
   "file_extension": ".py",
   "mimetype": "text/x-python",
   "name": "python",
   "nbconvert_exporter": "python",
   "pygments_lexer": "ipython2",
   "version": "2.7.6"
  }
 },
 "nbformat": 4,
 "nbformat_minor": 0
}
