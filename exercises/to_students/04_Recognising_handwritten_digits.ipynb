{
 "cells": [
  {
   "cell_type": "markdown",
   "metadata": {},
   "source": [
    "# Exercise 4: Recognising handwritten digits\n",
    "\n",
    "### The digits dataset\n",
    "We will use the [Scikit-learn](https://scikit-learn.org/) `digits` dataset (`from sklearn.datasets import load_digits`).\n",
    "This dataset consists of 8×8 images of handwritten digits (0–9). There are 1797 total samples, each belonging to one of 10 classes (digits 0–9). Each image can be thought of as 64 features (the pixel intensities) when flattened.\n",
    "\n",
    "We aim to build classification models that can accurately predict which digit an image represents.\n"
   ]
  },
  {
   "cell_type": "markdown",
   "metadata": {},
   "source": [
    "## Exercises\n",
    "1. **Load** the digits dataset and **print** the shape of the data and the target.\n",
    "2. **Display** the first ten images in the training set along with their **corresponding target** values.\n",
    "3. **Split** the dataset into a training and test set and **train** a logistic regression classifier (using multinomial extension) on the dataset. **Evaluate** its accuracy.\n",
    "4. Write code that **draws one random image** from the test set, **displays** this image, and **prints the predicted value** of the digit.\n",
    "5. **Train alternative classifiers** and compare their accuracy to the logistic regression classifier. Suggested models:\n",
    "    - Decision Tree\n",
    "    - K-Nearest Neighbors\n",
    "    - Naive Bayes\n",
    "    - Support Vector Machine (not covered in detail in this course)\n",
    "6. **Tune hyperparameters** (e.g., `max_depth` for Decision Tree, `n_neighbors` for KNN, etc.) to see if you can **improve** the accuracy of the classifiers.\n",
    "7. (Optional) If you'd like to try a **larger dataset**, explore the [MNIST dataset](http://yann.lecun.com/exdb/mnist/) which contains 70,000 images of handwritten digits.\n"
   ]
  },
  {
   "cell_type": "code",
   "execution_count": null,
   "metadata": {
    "collapsed": false,
    "jupyter": {
     "outputs_hidden": false
    }
   },
   "outputs": [],
   "source": [
    "# Solution 1\n",
    "# Step 1: Load the digits dataset and print its shape.\n",
    "\n",
    "from sklearn.datasets import load_digits\n",
    "import numpy as np\n",
    "import matplotlib.pyplot as plt\n",
    "\n",
    "digits = load_digits()\n",
    "\n",
    "print(\"Shape of digits.data:\", np.shape(digits.data))\n",
    "print(\"Shape of digits.target:\", np.shape(digits.target))\n",
    "\n",
    "# The data has 1797 samples and 64 features (8×8 pixels), and 1797 corresponding target labels."
   ]
  },
  {
   "cell_type": "markdown",
   "metadata": {},
   "source": [
    "### Questions/Extensions\n",
    "1. Why does each image become 64 features when flattened?\n",
    "2. What does the `digits.target` array represent in terms of the classification task?\n",
    "3. How might the shape of the data change if you were to use a higher-resolution image for each digit?\n"
   ]
  },
  {
   "cell_type": "markdown",
   "metadata": {},
   "source": [
    "The `.target` array gives the ground-truth digit (0–9) for each sample. Below we can inspect its contents."
   ]
  },
  {
   "cell_type": "code",
   "execution_count": null,
   "metadata": {
    "collapsed": false,
    "jupyter": {
     "outputs_hidden": false
    }
   },
   "outputs": [],
   "source": [
    "print(\"Target array:\")\n",
    "print(digits.target)  # This will show the correct digit class for each sample"
   ]
  },
  {
   "cell_type": "markdown",
   "metadata": {},
   "source": [
    "We can also access each original image in an `(8×8)` pixel format. Here is the first image in the dataset (in array form)."
   ]
  },
  {
   "cell_type": "code",
   "execution_count": null,
   "metadata": {
    "collapsed": false,
    "jupyter": {
     "outputs_hidden": false
    }
   },
   "outputs": [],
   "source": [
    "print(\"First image in digits.images:\")\n",
    "print(digits.images[2])"
   ]
  },
  {
   "cell_type": "markdown",
   "metadata": {},
   "source": [
    "The classification task is to predict which digit (0–9) the image represents based on these pixel intensities.\n",
    "Below, we visualize the first **10 images** of the dataset alongside their target labels."
   ]
  },
  {
   "cell_type": "code",
   "execution_count": null,
   "metadata": {
    "collapsed": false,
    "jupyter": {
     "outputs_hidden": false
    }
   },
   "outputs": [],
   "source": [
    "_, axes = plt.subplots(nrows=1, ncols=10, figsize=(15, 3))\n",
    "for ax, image, label in zip(axes, digits.images, digits.target):\n",
    "    ax.imshow(image, cmap=plt.cm.gray_r, interpolation=\"nearest\")\n",
    "    ax.set_title(\"Label: %i\" % label)\n",
    "    ax.axis('off')\n",
    "\n",
    "plt.show()"
   ]
  },
  {
   "cell_type": "markdown",
   "metadata": {},
   "source": [
    "Below, we use **multinomial logistic regression** to classify the digits. When the outcome variable has multiple classes, standard logistic regression is extended to handle more than two outcomes."
   ]
  },
  {
   "cell_type": "code",
   "execution_count": null,
   "metadata": {
    "collapsed": false,
    "jupyter": {
     "outputs_hidden": false
    }
   },
   "outputs": [],
   "source": [
    "# Solution 3\n",
    "# Train a (multinomial) logistic regression classifier on the dataset and evaluate its accuracy.\n",
    "\n",
    "from sklearn.linear_model import LogisticRegression\n",
    "from sklearn.model_selection import train_test_split\n",
    "\n",
    "# Flatten the images into vectors of size 64 (8x8)\n",
    "X = digits.images.reshape((len(digits.images), -1))\n",
    "y = digits.target\n",
    "\n",
    "# Split the data into training (80%) and test (20%)\n",
    "X_train, X_test, y_train, y_test = train_test_split(\n",
    "    X, y, test_size=0.2, random_state=42)\n",
    "\n",
    "# Initialize the logistic regression model (the default is multinomial logistic regression)\n",
    "clf_lr = LogisticRegression(\n",
    "    solver=\"lbfgs\",\n",
    "    max_iter=10000,\n",
    "    random_state=42\n",
    ")\n",
    "# Train the model\n",
    "clf_lr.fit(X_train, y_train)\n",
    "\n",
    "# Evaluate the model\n",
    "acc_lr = clf_lr.score(X_test, y_test)\n",
    "print(\"Multinomial Logistic Regression Accuracy:\", acc_lr)"
   ]
  },
  {
   "cell_type": "markdown",
   "metadata": {},
   "source": [
    "### Questions/Extensions\n",
    "1. What do you think happens if we don’t **flatten** the images (i.e., if we don’t reshape `digits.images`)? How would the classifier handle the data?\n",
    "2. Try changing the parameter `max_iter`. Does it affect convergence or accuracy?\n",
    "3. Logistic Regression has a `C` parameter (inverse regularization strength). What happens if you vary `C` significantly?\n"
   ]
  },
  {
   "cell_type": "markdown",
   "metadata": {},
   "source": [
    "We can now pick a **random image** from the **test set**, display it, and make a prediction using our trained logistic regression model."
   ]
  },
  {
   "cell_type": "code",
   "execution_count": null,
   "metadata": {
    "collapsed": false,
    "jupyter": {
     "outputs_hidden": false
    }
   },
   "outputs": [],
   "source": [
    "# Solution 4\n",
    "\n",
    "import random\n",
    "\n",
    "# Choose a random index from the test set\n",
    "random_idx = random.choice(range(len(X_test)))\n",
    "\n",
    "print(\"Random image index:\", random_idx)\n",
    "print(\"True label for this image:\", y_test[random_idx])\n",
    "\n",
    "# Reshape for display (8x8)\n",
    "img_to_disp = X_test[random_idx, :].reshape(8, 8)\n",
    "plt.imshow(img_to_disp, cmap=plt.cm.gray_r, interpolation=\"nearest\")\n",
    "plt.title(\"True Label: %i\" % y_test[random_idx])\n",
    "plt.axis('off')\n",
    "plt.show()\n"
   ]
  },
  {
   "cell_type": "code",
   "execution_count": null,
   "metadata": {
    "collapsed": false,
    "jupyter": {
     "outputs_hidden": false
    }
   },
   "outputs": [],
   "source": [
    "# Make a prediction for the same image\n",
    "prediction = clf_lr.predict(X_test[random_idx, :].reshape(1, -1))\n",
    "print(\"Predicted Label:\", prediction[0])"
   ]
  },
  {
   "cell_type": "markdown",
   "metadata": {},
   "source": [
    "### Questions/Extensions\n",
    "1. How often (qualitatively) do you see correct vs. incorrect predictions if you keep running the random selection?\n",
    "2. Try displaying the **raw feature vector** (64 values) of a random image. How do you interpret these values?\n",
    "3. What does `clf_lr.predict_proba(...)` return, and how could you interpret it?\n"
   ]
  },
  {
   "cell_type": "markdown",
   "metadata": {},
   "source": [
    "Now let’s train **alternative classifiers** and compare their accuracies with the logistic regression baseline."
   ]
  },
  {
   "cell_type": "code",
   "execution_count": null,
   "metadata": {
    "collapsed": false,
    "jupyter": {
     "outputs_hidden": false
    }
   },
   "outputs": [],
   "source": [
    "# Solution 5a: Decision Tree\n",
    "\n",
    "from sklearn.tree import DecisionTreeClassifier\n",
    "\n",
    "# Initialize and train a Decision Tree Classifier\n",
    "clf_dt = DecisionTreeClassifier(random_state=42)\n",
    "clf_dt.fit(X_train, y_train)\n",
    "\n",
    "# Evaluate on the test set\n",
    "acc_dt = clf_dt.score(X_test, y_test)\n",
    "print(\"Decision Tree Accuracy:\", acc_dt)"
   ]
  },
  {
   "cell_type": "markdown",
   "metadata": {},
   "source": [
    "### Questions/Extensions\n",
    "1. How does this Decision Tree accuracy compare with Logistic Regression?\n",
    "2. Inspect the parameters of the decision tree using `clf_dt.get_params()`. Which parameters might be most critical to adjust?\n",
    "3. How might a deeper tree (larger `max_depth`) affect bias vs. variance?\n"
   ]
  },
  {
   "cell_type": "code",
   "execution_count": null,
   "metadata": {
    "collapsed": false,
    "jupyter": {
     "outputs_hidden": false
    }
   },
   "outputs": [],
   "source": [
    "# Solution 5b: K-Nearest Neighbors\n",
    "\n",
    "from sklearn.neighbors import KNeighborsClassifier\n",
    "\n",
    "# Initialize and train a KNN classifier\n",
    "clf_knn = KNeighborsClassifier(n_neighbors=5)\n",
    "clf_knn.fit(X_train, y_train)\n",
    "\n",
    "# Evaluate on the test set\n",
    "acc_knn = clf_knn.score(X_test, y_test)\n",
    "print(\"KNN Accuracy:\", acc_knn)"
   ]
  },
  {
   "cell_type": "markdown",
   "metadata": {},
   "source": [
    "### Questions/Extensions\n",
    "1. The default value for `n_neighbors` is 5. Experiment with other values (e.g., 3, 7, 10). Do you see any accuracy changes?\n",
    "2. KNN can be slow for large datasets because it stores all training data. What might be a remedy?\n",
    "3. How does KNN’s decision boundary concept differ from Decision Trees?\n"
   ]
  },
  {
   "cell_type": "code",
   "execution_count": null,
   "metadata": {
    "collapsed": false,
    "jupyter": {
     "outputs_hidden": false
    }
   },
   "outputs": [],
   "source": [
    "# Solution 5c: Naive Bayes\n",
    "\n",
    "from sklearn.naive_bayes import MultinomialNB\n",
    "\n",
    "# Train a Naive Bayes classifier\n",
    "clf_nb = MultinomialNB()\n",
    "clf_nb.fit(X_train, y_train)\n",
    "\n",
    "# Evaluate on the test set\n",
    "acc_nb = clf_nb.score(X_test, y_test)\n",
    "print(\"Naive Bayes Accuracy:\", acc_nb)"
   ]
  },
  {
   "cell_type": "markdown",
   "metadata": {},
   "source": [
    "### Questions/Extensions\n",
    "1. Unlike other models, Naive Bayes assumes feature independence. Where might this assumption break down for image data?\n",
    "2. What are the main differences between `MultinomialNB` and `GaussianNB`?\n",
    "3. Could you apply `MultinomialNB` directly to raw pixel intensities on a more complex dataset (e.g. colored images)? Why or why not?\n"
   ]
  },
  {
   "cell_type": "code",
   "execution_count": null,
   "metadata": {
    "collapsed": false,
    "jupyter": {
     "outputs_hidden": false
    }
   },
   "outputs": [],
   "source": [
    "# Solution 5d: Support Vector Machine (SVM)\n",
    "\n",
    "from sklearn.svm import SVC\n",
    "\n",
    "# Train an SVM classifier\n",
    "clf_svm = SVC(random_state=42)\n",
    "clf_svm.fit(X_train, y_train)\n",
    "\n",
    "# Evaluate on the test set\n",
    "acc_svm = clf_svm.score(X_test, y_test)\n",
    "print(\"SVM Accuracy:\", acc_svm)"
   ]
  },
  {
   "cell_type": "markdown",
   "metadata": {},
   "source": [
    "### Questions/Extensions\n",
    "1. The default kernel for `SVC` is the RBF kernel. Try another kernel (e.g., `linear` or `poly`). Does accuracy change?\n",
    "2. SVMs can be sensitive to scaling. How might you preprocess the data for improved performance?\n",
    "3. Could SVMs scale well to the larger MNIST dataset?\n"
   ]
  },
  {
   "cell_type": "markdown",
   "metadata": {},
   "source": [
    "## Hyperparameter Tuning\n",
    "Below, we manually loop over some candidate hyperparameters for **Decision Tree** and **KNN**, printing out the accuracy. This is a simple approach. One can also use Scikit-learn’s `GridSearchCV` or `RandomizedSearchCV` for a more systematic tuning process."
   ]
  },
  {
   "cell_type": "code",
   "execution_count": null,
   "metadata": {
    "collapsed": false,
    "jupyter": {
     "outputs_hidden": false
    }
   },
   "outputs": [],
   "source": [
    "# Solution 6: Hyperparameter tuning (Decision Tree)\n",
    "\n",
    "param_grid_dt = {\n",
    "    'max_depth': [10, 20, None],\n",
    "    'min_samples_split': [2, 6, 10]\n",
    "}\n",
    "\n",
    "dtc = DecisionTreeClassifier(random_state=42)\n",
    "\n",
    "print(\"Decision Tree Hyperparameter Tuning:\\n\")\n",
    "for max_depth in param_grid_dt['max_depth']:\n",
    "    for min_samples_split in param_grid_dt['min_samples_split']:\n",
    "        dtc.set_params(max_depth=max_depth, min_samples_split=min_samples_split)\n",
    "        dtc.fit(X_train, y_train)\n",
    "        score = dtc.score(X_test, y_test)\n",
    "        print(f\"max_depth={max_depth}, min_samples_split={min_samples_split} => Accuracy: {score:.4f}\")"
   ]
  },
  {
   "cell_type": "markdown",
   "metadata": {},
   "source": [
    "### Questions/Extensions\n",
    "1. Which combination of parameters gives the highest accuracy? Are there multiple parameter sets with similar performance?\n",
    "2. If you were to use `GridSearchCV`, how would it streamline this process?\n",
    "3. What other hyperparameters might matter for decision trees?\n"
   ]
  },
  {
   "cell_type": "code",
   "execution_count": null,
   "metadata": {
    "collapsed": false,
    "jupyter": {
     "outputs_hidden": false
    }
   },
   "outputs": [],
   "source": [
    "# K-Nearest Neighbors Hyperparameter Tuning\n",
    "\n",
    "param_grid_knn = {\n",
    "    'n_neighbors': [3, 5, 7, 9, 11,60]\n",
    "}\n",
    "\n",
    "knn = KNeighborsClassifier()\n",
    "\n",
    "print(\"\\nKNN Hyperparameter Tuning:\\n\")\n",
    "for n_neighbors in param_grid_knn['n_neighbors']:\n",
    "    knn.set_params(n_neighbors=n_neighbors)\n",
    "    knn.fit(X_train, y_train)\n",
    "    score = knn.score(X_test, y_test)\n",
    "    print(f\"n_neighbors={n_neighbors} => Accuracy: {score:.4f}\")"
   ]
  },
  {
   "cell_type": "markdown",
   "metadata": {},
   "source": [
    "### Questions/Extensions\n",
    "1. How does changing the number of neighbors affect the bias-variance tradeoff?\n",
    "2. If you had a **much larger** training set, would KNN potentially perform better or worse?\n",
    "3. Can you combine KNN with dimensionality reduction (e.g., PCA) for potentially faster predictions?\n"
   ]
  }
 ],
 "metadata": {
  "kernelspec": {
   "display_name": "Python 3 (ipykernel)",
   "language": "python",
   "name": "python3"
  },
  "language_info": {
   "codemirror_mode": {
    "name": "ipython",
    "version": 3
   },
   "file_extension": ".py",
   "mimetype": "text/x-python",
   "name": "python",
   "nbconvert_exporter": "python",
   "pygments_lexer": "ipython3",
   "version": "3.10.6"
  }
 },
 "nbformat": 4,
 "nbformat_minor": 4
}
