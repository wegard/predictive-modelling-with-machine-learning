{
 "cells": [
  {
   "cell_type": "markdown",
   "source": [
    "# Exercise 4: Recognising handwritten digits\n",
    "\n",
    "### The digits dataset:\n",
    "Use the Scikit-learn digits dataset (`from sklearn.datasets import load_digits`).\n",
    "The data consist of images from handwritten digits and contains 250 samples from 44 writers.\n",
    "\n",
    "This data is stored in the `.data` member, which is an `n_samples`, `n_features` array.\n",
    "\n",
    "The target values are stored in the `.target` member, which is an `n_samples` array of integers."
   ],
   "metadata": {
    "collapsed": false
   }
  },
  {
   "cell_type": "markdown",
   "source": [
    "## Exercises\n",
    "\n",
    "1. Load the digits dataset and print the shape of the data and the target.\n",
    "2. Display the ten first images and the training set and the corresponding target values.\n",
    "3. Split the data set into a training and test set and train a (multinomial) logistic regression classifier on the dataset and evaluate its accuracy.\n",
    "4. Write some code that draw one random image from the test set, displays this image, and print the predicted value of the digit.\n",
    "5. Train some alternative classifiers and compare their accuracy to the logistic regression classifier. Here are some suggested models:\n",
    "    a. Decision tree\n",
    "    b. K-nearest neighbors\n",
    "    c. Naive Bayes\n",
    "    d. Support vector machine (not covered in this course)\n",
    "6. Try to improve the accuracy of some classifiers by tuning the hyperparameters such as `max_depth` for the decision tree or `n_neighbors` for the KNN classifier.\n",
    "7. (Optional) If you want to experiment with a larger dataset, try the [MNIST dataset](http://yann.lecun.com/exdb/mnist/). This dataset contains 70,000 images of handwritten digits, and is a good starting point for more advanced image classification tasks."
   ],
   "metadata": {
    "collapsed": false
   }
  },
  {
   "cell_type": "code",
   "execution_count": null,
   "outputs": [],
   "source": [],
   "metadata": {
    "collapsed": false
   }
  }
 ],
 "metadata": {
  "kernelspec": {
   "display_name": "Python 3",
   "language": "python",
   "name": "python3"
  },
  "language_info": {
   "codemirror_mode": {
    "name": "ipython",
    "version": 2
   },
   "file_extension": ".py",
   "mimetype": "text/x-python",
   "name": "python",
   "nbconvert_exporter": "python",
   "pygments_lexer": "ipython2",
   "version": "2.7.6"
  }
 },
 "nbformat": 4,
 "nbformat_minor": 0
}
