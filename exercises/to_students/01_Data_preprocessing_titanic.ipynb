{
 "cells": [
  {
   "cell_type": "markdown",
   "metadata": {},
   "source": [
    "## Exercises\n",
    "\n",
    "In this exercise, we’ll work with the Titanic dataset (`train.csv`). Your goal is to apply essential data preprocessing techniques and gain insights into the data.\n",
    "\n",
    "1. **Load and Inspect the Dataset:**\n",
    "   - Load the `train.csv` file into a Pandas DataFrame.\n",
    "   - Use methods like `head()`, `info()`, and `describe()` to get an initial understanding of the data.\n",
    "   \n",
    "2. **Handle Missing Values:**\n",
    "   - Identify which columns contain missing values.\n",
    "   - Decide on and apply an appropriate imputation strategy (e.g., fill missing ages with the median or mean, drop rows if necessary, etc.).\n",
    "   \n",
    "3. **Address Outliers:**\n",
    "   - Investigate the distribution of continuous variables, focusing on the `Fare` column.\n",
    "   - Determine if any outliers should be capped, removed, or handled in another appropriate way.\n",
    "   \n",
    "4. **Encode Categorical Variables:**\n",
    "   - Convert categorical features such as `Sex` and `Embarked` into numeric form using techniques like one-hot encoding or label encoding.\n",
    "   \n",
    "5. **Analyze Survival Probabilities:**\n",
    "   - Calculate the probability of survival for passengers in different passenger classes (1st, 2nd, and 3rd).\n",
    "   - Compute the survival probability for male vs. female passengers.\n",
    "\n",
    "6. **Role of 'pclass' in Survival:**\n",
    "   - What does the `pclass` variable represent?\n",
    "   - Discuss how and why passenger class might influence survival rates.\n",
    "   \n",
    "7. **Importance of Data Preprocessing:**\n",
    "   - Explain why handling missing values and outliers is crucial before fitting a machine learning model.\n",
    "   - Consider how preprocessing steps can impact both the performance and interpretability of your predictive models.\n"
   ]
  }
 ],
 "metadata": {
  "kernelspec": {
   "display_name": "Python 3 (ipykernel)",
   "language": "python",
   "name": "python3"
  },
  "language_info": {
   "codemirror_mode": {
    "name": "ipython",
    "version": 3
   },
   "file_extension": ".py",
   "mimetype": "text/x-python",
   "name": "python",
   "nbconvert_exporter": "python",
   "pygments_lexer": "ipython3",
   "version": "3.10.6"
  }
 },
 "nbformat": 4,
 "nbformat_minor": 4
}
