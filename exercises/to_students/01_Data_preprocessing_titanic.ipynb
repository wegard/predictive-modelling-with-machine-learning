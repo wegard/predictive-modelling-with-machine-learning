{
 "cells": [
  {
   "cell_type": "markdown",
   "metadata": {},
   "source": [
    "# Exercise 01: Data Preprocessing using the Titanic Dataset\n",
    "\n",
    "### GRA 4160\n",
    "\n",
    "The data is available on the Kaggle website (https://www.kaggle.com/c/titanic). There is also a saved copy of the data in the data folder on itslearning.\n",
    "\n",
    "I have copied the description of the data here:\n",
    "\n",
    "| Variable | Definition                                 | Key                        |\n",
    "|----------|--------------------------------------------|----------------------------|\n",
    "| survival | Survival                                   | 0 = No, 1 = Yes            |\n",
    "| pclass   | Ticket class                               | 1 = 1st, 2 = 2nd, 3 = 3rd  |\n",
    "| sex      | Sex                                        |                            |\n",
    "| Age      | Age in years                               |                            |\n",
    "| sibsp    | # of siblings / spouses aboard the Titanic |                            |\n",
    "| parch    | # of parents / children aboard the Titanic |                            |\n",
    "| ticket   | Ticket number                              |                            |\n",
    "| fare     | Passenger fare                             |                            |\n",
    "| cabin    | Cabin number                               |                            |\n",
    "| embarked | Port of Embarkation                        | C = Cherbourg, Q = Queenstown, S = Southampton |\n",
    "\n",
    "\n",
    "Variable Notes:\n",
    "\n",
    "- pclass: A proxy for socio-economic status (SES)\n",
    "  1st = Upper\n",
    "  2nd = Middle\n",
    "  3rd = Lower\n",
    "\n",
    "- age: Age is fractional if less than 1. If the age is estimated, it is in the form of xx.5.\n",
    "\n",
    "- sibsp: The dataset defines family relations in this way...\n",
    "  Sibling = brother, sister, stepbrother, stepsister\n",
    "  Spouse = husband, wife (mistresses and fiancés were ignored)\n",
    "\n",
    "- parch: The dataset defines family relations in this way...\n",
    "  Parent = mother, father\n",
    "  Child = daughter, son, stepdaughter, stepson\n",
    "  Some children traveled only with a nanny, therefore parch=0 for them.\n",
    "\n",
    "## Exercises\n",
    "\n",
    "1. Load and inspect the dataset (use the train.csv file).\n",
    "2. Check for missing values and impute any missing data as appropriate.\n",
    "3. Check for outliers and handle them in a suitable way (e.g., look at the fare column).\n",
    "4. Encode categorical variables as numerical data.\n",
    "\n",
    "Additional Questions:\n",
    "\n",
    "5. What is the significance of the 'pclass' variable in the dataset, and how might it affect survival rates?\n",
    "6. Explain why handling missing values and outliers is important in the context of data preprocessing for machine learning."
   ]
  },
  {
   "cell_type": "code",
   "execution_count": 1,
   "metadata": {
    "collapsed": false,
    "jupyter": {
     "outputs_hidden": false
    }
   },
   "outputs": [],
   "source": [
    "## Your solutions goes here"
   ]
  },
  {
   "cell_type": "code",
   "execution_count": 1,
   "metadata": {
    "collapsed": false,
    "jupyter": {
     "outputs_hidden": false
    }
   },
   "outputs": [],
   "source": []
  }
 ],
 "metadata": {
  "kernelspec": {
   "display_name": "Python 3 (ipykernel)",
   "language": "python",
   "name": "python3"
  },
  "language_info": {
   "codemirror_mode": {
    "name": "ipython",
    "version": 3
   },
   "file_extension": ".py",
   "mimetype": "text/x-python",
   "name": "python",
   "nbconvert_exporter": "python",
   "pygments_lexer": "ipython3",
   "version": "3.10.6"
  }
 },
 "nbformat": 4,
 "nbformat_minor": 4
}
