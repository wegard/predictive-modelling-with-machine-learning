{
 "cells": [
  {
   "cell_type": "markdown",
   "metadata": {
    "collapsed": false
   },
   "source": [
    "# Exercise 01: Data preprocessing using the Titanic dataset\n",
    "\n",
    "### GRA 4160\n",
    "\n",
    "The data is available on the Kaggle website (https://www.kaggle.com/c/titanic).\n",
    "There is also a saved copy of the data in the data folder on itslearning.\n",
    "\n",
    "I have copied the description of the data here:\n",
    "\n",
    " <p>  <p>\n",
    "\n",
    "| Variable | \tDefinition     | Key                        |\n",
    "|----------|-------------------|----------------------------|\n",
    "| survival | \tSurvival       | \t0 = No, 1 = Yes         |\n",
    "| pclass   | Ticket class      | 1 = 1st, 2 = 2nd, 3 = 3rd  |\n",
    "| sex\t   |      Sex          |                            |\n",
    "| Age\t   | Age in years      |                            |\n",
    "| sibsp\t   | # of siblings / spouses aboard the Titanic |   |\n",
    "| parch\t   | # of parents / children aboard the Titanic |   |\n",
    "| ticket   |\tTicket number |                             |\n",
    "| fare\t   | Passenger fare |                            |\n",
    "| cabin\t   | Cabin number | |\n",
    "| embarked | Port of Embarkation |\tC = Cherbourg, Q = Queenstown, S = Southampton |\n",
    "\n",
    "<p>\n",
    "\n",
    "Variable Notes\n",
    "\n",
    "pclass: A proxy for socio-economic status (SES)\n",
    "1st = Upper\n",
    "2nd = Middle\n",
    "3rd = Lower\n",
    "\n",
    "age: Age is fractional if less than 1. If the age is estimated, is it in the form of xx.5\n",
    "\n",
    "sibsp: The dataset defines family relations in this way...\n",
    "Sibling = brother, sister, stepbrother, stepsister\n",
    "Spouse = husband, wife (mistresses and fiancés were ignored)\n",
    "\n",
    "parch: The dataset defines family relations in this way...\n",
    "Parent = mother, father\n",
    "Child = daughter, son, stepdaughter, stepson\n",
    "Some children travelled only with a nanny, therefore parch=0 for them.\n",
    "\n",
    "## Exercises\n",
    "\n",
    "1. Load and inspect the dataset (use the train.csv file)\n",
    "2. Check for missing values and impute any missing data as appropriate.\n",
    "3. Check for outliers and handle them in a suitable way (e.g. look at the fare column).\n",
    "4. Encode categorical variables as numerical data."
   ]
  },
  {
   "cell_type": "code",
   "execution_count": 1,
   "metadata": {
    "collapsed": false
   },
   "outputs": [],
   "source": [
    "## Your solutions goes here"
   ]
  },
  {
   "cell_type": "code",
   "execution_count": 1,
   "metadata": {
    "collapsed": false
   },
   "outputs": [],
   "source": []
  }
 ],
 "metadata": {
  "kernelspec": {
   "display_name": "Python 3",
   "language": "python",
   "name": "python3"
  },
  "language_info": {
   "codemirror_mode": {
    "name": "ipython",
    "version": 2
   },
   "file_extension": ".py",
   "mimetype": "text/x-python",
   "name": "python",
   "nbconvert_exporter": "python",
   "pygments_lexer": "ipython2",
   "version": "2.7.6"
  }
 },
 "nbformat": 4,
 "nbformat_minor": 0
}
