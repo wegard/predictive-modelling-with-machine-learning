{
 "cells": [
  {
   "cell_type": "markdown",
   "source": [
    "# Exercise 9: Neural networks with Keras I\n",
    "\n",
    "## GRA 4160# Exercises\n",
    "\n",
    "1. Have a look at the [Keras documentation](https://keras.io/). Install Keras. Try to run the example code in the documentation.\n",
    "2. Go through the code bellow for how to train that train a simple neural network with Keras for classifying the Iris dataset."
   ],
   "metadata": {
    "collapsed": false
   }
  },
  {
   "cell_type": "markdown",
   "source": [],
   "metadata": {
    "collapsed": false
   }
  },
  {
   "cell_type": "code",
   "execution_count": 15,
   "outputs": [],
   "source": [
    "# Exercise 2: Neural networks with Keras I\n",
    "\n",
    "# Let's start by importing the necessary libraries and loading the dataset.\n",
    "\n",
    "import numpy as np\n",
    "from sklearn.datasets import load_iris\n",
    "from sklearn.model_selection import train_test_split\n",
    "from keras.models import Sequential\n",
    "from keras.layers import Dense, Dropout\n",
    "from keras.utils import to_categorical\n",
    "\n",
    "# load the iris dataset\n",
    "iris = load_iris()\n",
    "X = iris.data\n",
    "y = iris.target"
   ],
   "metadata": {
    "collapsed": false
   }
  },
  {
   "cell_type": "code",
   "execution_count": 16,
   "outputs": [],
   "source": [
    "# split the data into training and testing sets\n",
    "X_train, X_test, y_train, y_test = train_test_split(X, y, test_size=0.3, random_state=15)"
   ],
   "metadata": {
    "collapsed": false
   }
  },
  {
   "cell_type": "code",
   "execution_count": 17,
   "outputs": [],
   "source": [
    "# convert target variable to categorical format\n",
    "y_train = to_categorical(y_train)\n",
    "y_test = to_categorical(y_test)"
   ],
   "metadata": {
    "collapsed": false
   }
  },
  {
   "cell_type": "code",
   "execution_count": 18,
   "outputs": [],
   "source": [
    "# Now, we can define the neural network model using Keras.\n",
    "# In this example, we will use a simple architecture with two hidden layers, each with 16 nodes.\n",
    "\n",
    "# define the neural network model\n",
    "model = Sequential()\n",
    "model.add(Dense(16, input_shape=(4,), activation='relu'))\n",
    "model.add(Dense(16, activation='relu'))\n",
    "model.add(Dense(3, activation='softmax'))"
   ],
   "metadata": {
    "collapsed": false
   }
  },
  {
   "cell_type": "markdown",
   "source": [
    "We use the softmax activation function for the output layer in this example because it's a multi-class classification problem, where we need to predict one of the three possible classes (setosa, versicolor, or virginica) for each input instance of the iris dataset.\n",
    "\n",
    "The softmax function normalizes the outputs of the last layer of the network into a probability distribution, where the sum of all probabilities is equal to 1. This means that the output of each neuron in the last layer represents the probability of the input belonging to a particular class.\n",
    "\n",
    "Therefore, by using softmax activation function on the output layer, we can obtain the predicted probabilities for each class, and we can select the class with the highest probability as the predicted class for each input instance."
   ],
   "metadata": {
    "collapsed": false
   }
  },
  {
   "cell_type": "code",
   "execution_count": 19,
   "outputs": [],
   "source": [
    "# We need to compile the model by specifying the loss function, optimizer, and evaluation metric.\n",
    "model.compile(loss='categorical_crossentropy', optimizer='SGD', metrics=['accuracy'])"
   ],
   "metadata": {
    "collapsed": false
   }
  },
  {
   "cell_type": "markdown",
   "source": [
    "**Categorical Crossentropy** is a loss function used for multi-class classification problems where the output variable can take on more than two possible classes.\n",
    "It measures the difference between the true probability distribution and the predicted probability distribution of the output classes.\n",
    "\n",
    "The loss function penalizes the model more if the predicted probability distribution is very different from the true probability distribution.\n",
    "In other words, if the model assigns a low probability to the correct class or a high probability to an incorrect class, the loss function will be high.\n",
    "Conversely, if the model assigns a high probability to the correct class or a low probability to an incorrect class, the loss function will be low."
   ],
   "metadata": {
    "collapsed": false
   }
  },
  {
   "cell_type": "code",
   "execution_count": 20,
   "outputs": [
    {
     "name": "stdout",
     "output_type": "stream",
     "text": [
      "Epoch 1/50\n",
      "4/4 [==============================] - 0s 17ms/step - loss: 1.3684 - accuracy: 0.3429 - val_loss: 1.1710 - val_accuracy: 0.2000\n",
      "Epoch 2/50\n",
      "4/4 [==============================] - 0s 3ms/step - loss: 1.1513 - accuracy: 0.2190 - val_loss: 1.1228 - val_accuracy: 0.1778\n",
      "Epoch 3/50\n",
      "4/4 [==============================] - 0s 4ms/step - loss: 1.1106 - accuracy: 0.2190 - val_loss: 1.1200 - val_accuracy: 0.3111\n",
      "Epoch 4/50\n",
      "4/4 [==============================] - 0s 3ms/step - loss: 1.0911 - accuracy: 0.3429 - val_loss: 1.0484 - val_accuracy: 0.4667\n",
      "Epoch 5/50\n",
      "4/4 [==============================] - 0s 3ms/step - loss: 1.0360 - accuracy: 0.4190 - val_loss: 1.0125 - val_accuracy: 0.5333\n",
      "Epoch 6/50\n",
      "4/4 [==============================] - 0s 3ms/step - loss: 0.9946 - accuracy: 0.5810 - val_loss: 0.9706 - val_accuracy: 0.6222\n",
      "Epoch 7/50\n",
      "4/4 [==============================] - 0s 3ms/step - loss: 0.9471 - accuracy: 0.6000 - val_loss: 0.9379 - val_accuracy: 0.6444\n",
      "Epoch 8/50\n",
      "4/4 [==============================] - 0s 4ms/step - loss: 0.9058 - accuracy: 0.6667 - val_loss: 0.8888 - val_accuracy: 0.7778\n",
      "Epoch 9/50\n",
      "4/4 [==============================] - 0s 4ms/step - loss: 0.8653 - accuracy: 0.7714 - val_loss: 0.8524 - val_accuracy: 0.6444\n",
      "Epoch 10/50\n",
      "4/4 [==============================] - 0s 4ms/step - loss: 0.8286 - accuracy: 0.6762 - val_loss: 0.8204 - val_accuracy: 0.7333\n",
      "Epoch 11/50\n",
      "4/4 [==============================] - 0s 3ms/step - loss: 0.8004 - accuracy: 0.7524 - val_loss: 0.7825 - val_accuracy: 0.8222\n",
      "Epoch 12/50\n",
      "4/4 [==============================] - 0s 3ms/step - loss: 0.7612 - accuracy: 0.7524 - val_loss: 0.7491 - val_accuracy: 0.9111\n",
      "Epoch 13/50\n",
      "4/4 [==============================] - 0s 3ms/step - loss: 0.7267 - accuracy: 0.8857 - val_loss: 0.7272 - val_accuracy: 0.6444\n",
      "Epoch 14/50\n",
      "4/4 [==============================] - 0s 3ms/step - loss: 0.6967 - accuracy: 0.6762 - val_loss: 0.6961 - val_accuracy: 0.6444\n",
      "Epoch 15/50\n",
      "4/4 [==============================] - 0s 3ms/step - loss: 0.6736 - accuracy: 0.6857 - val_loss: 0.6657 - val_accuracy: 0.8222\n",
      "Epoch 16/50\n",
      "4/4 [==============================] - 0s 4ms/step - loss: 0.6417 - accuracy: 0.7429 - val_loss: 0.6422 - val_accuracy: 0.9778\n",
      "Epoch 17/50\n",
      "4/4 [==============================] - 0s 3ms/step - loss: 0.6232 - accuracy: 0.9048 - val_loss: 0.6232 - val_accuracy: 0.6444\n",
      "Epoch 18/50\n",
      "4/4 [==============================] - 0s 4ms/step - loss: 0.5979 - accuracy: 0.7429 - val_loss: 0.6016 - val_accuracy: 0.6667\n",
      "Epoch 19/50\n",
      "4/4 [==============================] - 0s 3ms/step - loss: 0.5877 - accuracy: 0.6952 - val_loss: 0.5806 - val_accuracy: 0.8222\n",
      "Epoch 20/50\n",
      "4/4 [==============================] - 0s 3ms/step - loss: 0.5622 - accuracy: 0.8667 - val_loss: 0.5655 - val_accuracy: 0.6889\n",
      "Epoch 21/50\n",
      "4/4 [==============================] - 0s 3ms/step - loss: 0.5434 - accuracy: 0.7619 - val_loss: 0.5511 - val_accuracy: 0.6889\n",
      "Epoch 22/50\n",
      "4/4 [==============================] - 0s 3ms/step - loss: 0.5296 - accuracy: 0.8000 - val_loss: 0.5412 - val_accuracy: 0.6667\n",
      "Epoch 23/50\n",
      "4/4 [==============================] - 0s 4ms/step - loss: 0.5201 - accuracy: 0.8000 - val_loss: 0.5305 - val_accuracy: 0.6667\n",
      "Epoch 24/50\n",
      "4/4 [==============================] - 0s 3ms/step - loss: 0.5069 - accuracy: 0.7524 - val_loss: 0.5098 - val_accuracy: 0.8667\n",
      "Epoch 25/50\n",
      "4/4 [==============================] - 0s 3ms/step - loss: 0.4934 - accuracy: 0.8857 - val_loss: 0.4986 - val_accuracy: 0.8889\n",
      "Epoch 26/50\n",
      "4/4 [==============================] - 0s 3ms/step - loss: 0.4856 - accuracy: 0.8762 - val_loss: 0.4997 - val_accuracy: 0.7111\n",
      "Epoch 27/50\n",
      "4/4 [==============================] - 0s 3ms/step - loss: 0.4769 - accuracy: 0.7810 - val_loss: 0.4795 - val_accuracy: 0.9556\n",
      "Epoch 28/50\n",
      "4/4 [==============================] - 0s 3ms/step - loss: 0.4668 - accuracy: 0.9524 - val_loss: 0.4713 - val_accuracy: 0.9333\n",
      "Epoch 29/50\n",
      "4/4 [==============================] - 0s 3ms/step - loss: 0.4613 - accuracy: 0.9048 - val_loss: 0.4626 - val_accuracy: 0.9556\n",
      "Epoch 30/50\n",
      "4/4 [==============================] - 0s 3ms/step - loss: 0.4492 - accuracy: 0.9429 - val_loss: 0.4653 - val_accuracy: 0.8222\n",
      "Epoch 31/50\n",
      "4/4 [==============================] - 0s 3ms/step - loss: 0.4465 - accuracy: 0.8476 - val_loss: 0.4601 - val_accuracy: 0.8222\n",
      "Epoch 32/50\n",
      "4/4 [==============================] - 0s 3ms/step - loss: 0.4439 - accuracy: 0.8952 - val_loss: 0.4405 - val_accuracy: 0.9778\n",
      "Epoch 33/50\n",
      "4/4 [==============================] - 0s 3ms/step - loss: 0.4295 - accuracy: 0.9143 - val_loss: 0.4387 - val_accuracy: 0.9556\n",
      "Epoch 34/50\n",
      "4/4 [==============================] - 0s 4ms/step - loss: 0.4299 - accuracy: 0.9238 - val_loss: 0.4260 - val_accuracy: 0.9556\n",
      "Epoch 35/50\n",
      "4/4 [==============================] - 0s 4ms/step - loss: 0.4148 - accuracy: 0.9429 - val_loss: 0.4276 - val_accuracy: 0.8444\n",
      "Epoch 36/50\n",
      "4/4 [==============================] - 0s 3ms/step - loss: 0.4112 - accuracy: 0.9048 - val_loss: 0.4130 - val_accuracy: 0.9778\n",
      "Epoch 37/50\n",
      "4/4 [==============================] - 0s 3ms/step - loss: 0.4081 - accuracy: 0.9429 - val_loss: 0.4078 - val_accuracy: 0.9556\n",
      "Epoch 38/50\n",
      "4/4 [==============================] - 0s 3ms/step - loss: 0.4002 - accuracy: 0.9524 - val_loss: 0.4630 - val_accuracy: 0.6667\n",
      "Epoch 39/50\n",
      "4/4 [==============================] - 0s 4ms/step - loss: 0.4196 - accuracy: 0.7714 - val_loss: 0.4046 - val_accuracy: 0.8444\n",
      "Epoch 40/50\n",
      "4/4 [==============================] - 0s 3ms/step - loss: 0.3907 - accuracy: 0.9048 - val_loss: 0.4104 - val_accuracy: 0.8222\n",
      "Epoch 41/50\n",
      "4/4 [==============================] - 0s 3ms/step - loss: 0.4030 - accuracy: 0.8381 - val_loss: 0.3908 - val_accuracy: 0.8667\n",
      "Epoch 42/50\n",
      "4/4 [==============================] - 0s 3ms/step - loss: 0.3757 - accuracy: 0.8857 - val_loss: 0.3821 - val_accuracy: 0.9556\n",
      "Epoch 43/50\n",
      "4/4 [==============================] - 0s 3ms/step - loss: 0.3743 - accuracy: 0.9524 - val_loss: 0.3748 - val_accuracy: 0.9778\n",
      "Epoch 44/50\n",
      "4/4 [==============================] - 0s 4ms/step - loss: 0.3622 - accuracy: 0.9714 - val_loss: 0.3837 - val_accuracy: 0.8444\n",
      "Epoch 45/50\n",
      "4/4 [==============================] - 0s 3ms/step - loss: 0.3637 - accuracy: 0.8857 - val_loss: 0.3742 - val_accuracy: 0.8444\n",
      "Epoch 46/50\n",
      "4/4 [==============================] - 0s 3ms/step - loss: 0.3577 - accuracy: 0.9143 - val_loss: 0.3527 - val_accuracy: 0.9778\n",
      "Epoch 47/50\n",
      "4/4 [==============================] - 0s 4ms/step - loss: 0.3463 - accuracy: 0.9524 - val_loss: 0.3466 - val_accuracy: 0.9556\n",
      "Epoch 48/50\n",
      "4/4 [==============================] - 0s 3ms/step - loss: 0.3415 - accuracy: 0.9714 - val_loss: 0.3660 - val_accuracy: 0.8444\n",
      "Epoch 49/50\n",
      "4/4 [==============================] - 0s 3ms/step - loss: 0.3496 - accuracy: 0.8952 - val_loss: 0.3418 - val_accuracy: 0.9333\n",
      "Epoch 50/50\n",
      "4/4 [==============================] - 0s 3ms/step - loss: 0.3314 - accuracy: 0.9524 - val_loss: 0.3303 - val_accuracy: 0.9556\n"
     ]
    },
    {
     "data": {
      "text/plain": "<keras.callbacks.History at 0x16c80fdf0>"
     },
     "execution_count": 20,
     "metadata": {},
     "output_type": "execute_result"
    }
   ],
   "source": [
    "# train the model\n",
    "model.fit(X_train, y_train, epochs=50, batch_size=32, validation_data=(X_test, y_test))"
   ],
   "metadata": {
    "collapsed": false
   }
  },
  {
   "cell_type": "code",
   "execution_count": 21,
   "outputs": [
    {
     "name": "stdout",
     "output_type": "stream",
     "text": [
      "2/2 [==============================] - 0s 1ms/step - loss: 0.3303 - accuracy: 0.9556\n",
      "Test accuracy: 0.9555555582046509\n"
     ]
    }
   ],
   "source": [
    "# evaluate the model on the test set\n",
    "test_loss, test_acc = model.evaluate(X_test, y_test)\n",
    "print('Test accuracy:', test_acc)"
   ],
   "metadata": {
    "collapsed": false
   }
  },
  {
   "cell_type": "code",
   "execution_count": 21,
   "outputs": [],
   "source": [],
   "metadata": {
    "collapsed": false
   }
  }
 ],
 "metadata": {
  "kernelspec": {
   "display_name": "Python 3",
   "language": "python",
   "name": "python3"
  },
  "language_info": {
   "codemirror_mode": {
    "name": "ipython",
    "version": 2
   },
   "file_extension": ".py",
   "mimetype": "text/x-python",
   "name": "python",
   "nbconvert_exporter": "python",
   "pygments_lexer": "ipython2",
   "version": "2.7.6"
  }
 },
 "nbformat": 4,
 "nbformat_minor": 0
}
