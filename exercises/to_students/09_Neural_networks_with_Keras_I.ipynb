{
 "cells": [
  {
   "cell_type": "markdown",
   "metadata": {
    "collapsed": false
   },
   "source": [
    "# Exercise 9: Neural networks with Keras I\n",
    "\n",
    "## GRA 4160\n",
    "\n",
    "## Exercises\n",
    "\n",
    "1. Have a look at the [Keras documentation](https://keras.io/). Install Keras. Try to run the example code in the documentation.\n",
    "2. Go through the code bellow for how to train that train a simple neural network with Keras for classifying the Iris dataset."
   ]
  },
  {
   "cell_type": "code",
   "execution_count": 2,
   "metadata": {
    "collapsed": false
   },
   "outputs": [],
   "source": [
    "# Exercise 2: Neural networks with Keras I\n",
    "\n",
    "# Let's start by importing the necessary libraries and loading the dataset.\n",
    "\n",
    "import numpy as np\n",
    "from sklearn.datasets import load_iris\n",
    "from sklearn.model_selection import train_test_split\n",
    "from keras.models import Sequential\n",
    "from keras.layers import Dense, Dropout\n",
    "from keras.utils import to_categorical"
   ]
  },
  {
   "cell_type": "code",
   "execution_count": 3,
   "metadata": {},
   "outputs": [],
   "source": [
    "# load the iris dataset\n",
    "iris = load_iris()\n",
    "X = iris.data\n",
    "y = iris.target"
   ]
  },
  {
   "cell_type": "code",
   "execution_count": 4,
   "metadata": {
    "collapsed": false
   },
   "outputs": [],
   "source": [
    "# split the data into training and testing sets\n",
    "X_train, X_test, y_train, y_test = train_test_split(X, y, test_size=0.3, random_state=15)"
   ]
  },
  {
   "cell_type": "code",
   "execution_count": 5,
   "metadata": {
    "collapsed": false
   },
   "outputs": [],
   "source": [
    "# convert target variable to categorical format\n",
    "y_train = to_categorical(y_train)\n",
    "y_test = to_categorical(y_test)"
   ]
  },
  {
   "cell_type": "code",
   "execution_count": 6,
   "metadata": {
    "collapsed": false
   },
   "outputs": [],
   "source": [
    "# Now, we can define the neural network model using Keras.\n",
    "# In this example, we will use a simple architecture with two hidden layers, each with 16 nodes.\n",
    "\n",
    "# define the neural network model\n",
    "model = Sequential()\n",
    "model.add(Dense(16, input_shape=(4,), activation='relu'))\n",
    "model.add(Dense(16, activation='relu'))\n",
    "model.add(Dense(3, activation='softmax'))"
   ]
  },
  {
   "cell_type": "markdown",
   "metadata": {
    "collapsed": false
   },
   "source": [
    "We use the softmax activation function for the output layer in this example because it's a multi-class classification problem, where we need to predict one of the three possible classes (setosa, versicolor, or virginica) for each input instance of the iris dataset.\n",
    "\n",
    "The softmax function normalizes the outputs of the last layer of the network into a probability distribution, where the sum of all probabilities is equal to 1. This means that the output of each neuron in the last layer represents the probability of the input belonging to a particular class.\n",
    "\n",
    "Therefore, by using softmax activation function on the output layer, we can obtain the predicted probabilities for each class, and we can select the class with the highest probability as the predicted class for each input instance."
   ]
  },
  {
   "cell_type": "code",
   "execution_count": 7,
   "metadata": {
    "collapsed": false
   },
   "outputs": [],
   "source": [
    "# We need to compile the model by specifying the loss function, optimizer, and evaluation metric.\n",
    "model.compile(loss='categorical_crossentropy', optimizer='SGD', metrics=['accuracy'])"
   ]
  },
  {
   "cell_type": "markdown",
   "metadata": {
    "collapsed": false
   },
   "source": [
    "**Categorical Crossentropy** is a loss function used for multi-class classification problems where the output variable can take on more than two possible classes.\n",
    "It measures the difference between the true probability distribution and the predicted probability distribution of the output classes.\n",
    "\n",
    "The loss function penalizes the model more if the predicted probability distribution is very different from the true probability distribution.\n",
    "In other words, if the model assigns a low probability to the correct class or a high probability to an incorrect class, the loss function will be high.\n",
    "Conversely, if the model assigns a high probability to the correct class or a low probability to an incorrect class, the loss function will be low."
   ]
  },
  {
   "cell_type": "code",
   "execution_count": 8,
   "metadata": {
    "collapsed": false
   },
   "outputs": [
    {
     "name": "stdout",
     "output_type": "stream",
     "text": [
      "Epoch 1/50\n",
      "1/4 [======>.......................] - ETA: 0s - loss: 2.4931 - accuracy: 0.3750"
     ]
    },
    {
     "name": "stderr",
     "output_type": "stream",
     "text": [
      "2024-03-04 13:24:10.037188: W tensorflow/core/platform/profile_utils/cpu_utils.cc:128] Failed to get CPU frequency: 0 Hz\n"
     ]
    },
    {
     "name": "stdout",
     "output_type": "stream",
     "text": [
      "4/4 [==============================] - 0s 25ms/step - loss: 2.0847 - accuracy: 0.3429 - val_loss: 1.3656 - val_accuracy: 0.3111\n",
      "Epoch 2/50\n",
      "4/4 [==============================] - 0s 4ms/step - loss: 1.2751 - accuracy: 0.3429 - val_loss: 1.1806 - val_accuracy: 0.3111\n",
      "Epoch 3/50\n",
      "4/4 [==============================] - 0s 4ms/step - loss: 1.1386 - accuracy: 0.3429 - val_loss: 1.1223 - val_accuracy: 0.4222\n",
      "Epoch 4/50\n",
      "4/4 [==============================] - 0s 4ms/step - loss: 1.0958 - accuracy: 0.3810 - val_loss: 1.0878 - val_accuracy: 0.5111\n",
      "Epoch 5/50\n",
      "4/4 [==============================] - 0s 4ms/step - loss: 1.0676 - accuracy: 0.5810 - val_loss: 1.0854 - val_accuracy: 0.3111\n",
      "Epoch 6/50\n",
      "4/4 [==============================] - 0s 4ms/step - loss: 1.0531 - accuracy: 0.3429 - val_loss: 1.0516 - val_accuracy: 0.5556\n",
      "Epoch 7/50\n",
      "4/4 [==============================] - 0s 4ms/step - loss: 1.0344 - accuracy: 0.5905 - val_loss: 1.0438 - val_accuracy: 0.3333\n",
      "Epoch 8/50\n",
      "4/4 [==============================] - 0s 5ms/step - loss: 1.0217 - accuracy: 0.4190 - val_loss: 1.0193 - val_accuracy: 0.6222\n",
      "Epoch 9/50\n",
      "4/4 [==============================] - 0s 5ms/step - loss: 1.0111 - accuracy: 0.6667 - val_loss: 1.0162 - val_accuracy: 0.3333\n",
      "Epoch 10/50\n",
      "4/4 [==============================] - 0s 4ms/step - loss: 1.0051 - accuracy: 0.4476 - val_loss: 1.0172 - val_accuracy: 0.3111\n",
      "Epoch 11/50\n",
      "4/4 [==============================] - 0s 4ms/step - loss: 0.9978 - accuracy: 0.4286 - val_loss: 0.9981 - val_accuracy: 0.3333\n",
      "Epoch 12/50\n",
      "4/4 [==============================] - 0s 4ms/step - loss: 0.9800 - accuracy: 0.4952 - val_loss: 0.9778 - val_accuracy: 0.6444\n",
      "Epoch 13/50\n",
      "4/4 [==============================] - 0s 4ms/step - loss: 0.9682 - accuracy: 0.6667 - val_loss: 0.9659 - val_accuracy: 0.6444\n",
      "Epoch 14/50\n",
      "4/4 [==============================] - 0s 4ms/step - loss: 0.9594 - accuracy: 0.6667 - val_loss: 0.9554 - val_accuracy: 0.6444\n",
      "Epoch 15/50\n",
      "4/4 [==============================] - 0s 4ms/step - loss: 0.9488 - accuracy: 0.6667 - val_loss: 0.9487 - val_accuracy: 0.6444\n",
      "Epoch 16/50\n",
      "4/4 [==============================] - 0s 4ms/step - loss: 0.9309 - accuracy: 0.6667 - val_loss: 0.9346 - val_accuracy: 0.6667\n",
      "Epoch 17/50\n",
      "4/4 [==============================] - 0s 4ms/step - loss: 0.9216 - accuracy: 0.6762 - val_loss: 0.9279 - val_accuracy: 0.6444\n",
      "Epoch 18/50\n",
      "4/4 [==============================] - 0s 4ms/step - loss: 0.9145 - accuracy: 0.6571 - val_loss: 0.9147 - val_accuracy: 0.6444\n",
      "Epoch 19/50\n",
      "4/4 [==============================] - 0s 4ms/step - loss: 0.8991 - accuracy: 0.6762 - val_loss: 0.9064 - val_accuracy: 0.6444\n",
      "Epoch 20/50\n",
      "4/4 [==============================] - 0s 4ms/step - loss: 0.8864 - accuracy: 0.6762 - val_loss: 0.8963 - val_accuracy: 0.6444\n",
      "Epoch 21/50\n",
      "4/4 [==============================] - 0s 4ms/step - loss: 0.8749 - accuracy: 0.6762 - val_loss: 0.8832 - val_accuracy: 0.6444\n",
      "Epoch 22/50\n",
      "4/4 [==============================] - 0s 4ms/step - loss: 0.8671 - accuracy: 0.6762 - val_loss: 0.8774 - val_accuracy: 0.6444\n",
      "Epoch 23/50\n",
      "4/4 [==============================] - 0s 4ms/step - loss: 0.8522 - accuracy: 0.6762 - val_loss: 0.8610 - val_accuracy: 0.6444\n",
      "Epoch 24/50\n",
      "4/4 [==============================] - 0s 4ms/step - loss: 0.8373 - accuracy: 0.6762 - val_loss: 0.8433 - val_accuracy: 0.6444\n",
      "Epoch 25/50\n",
      "4/4 [==============================] - 0s 4ms/step - loss: 0.8255 - accuracy: 0.6762 - val_loss: 0.8264 - val_accuracy: 0.6667\n",
      "Epoch 26/50\n",
      "4/4 [==============================] - 0s 4ms/step - loss: 0.8091 - accuracy: 0.6762 - val_loss: 0.8143 - val_accuracy: 0.6444\n",
      "Epoch 27/50\n",
      "4/4 [==============================] - 0s 4ms/step - loss: 0.7969 - accuracy: 0.6762 - val_loss: 0.8067 - val_accuracy: 0.8444\n",
      "Epoch 28/50\n",
      "4/4 [==============================] - 0s 4ms/step - loss: 0.7864 - accuracy: 0.7619 - val_loss: 0.7871 - val_accuracy: 0.6889\n",
      "Epoch 29/50\n",
      "4/4 [==============================] - 0s 4ms/step - loss: 0.7707 - accuracy: 0.6857 - val_loss: 0.7749 - val_accuracy: 0.6889\n",
      "Epoch 30/50\n",
      "4/4 [==============================] - 0s 4ms/step - loss: 0.7584 - accuracy: 0.6857 - val_loss: 0.7748 - val_accuracy: 0.6444\n",
      "Epoch 31/50\n",
      "4/4 [==============================] - 0s 5ms/step - loss: 0.7594 - accuracy: 0.6857 - val_loss: 0.7620 - val_accuracy: 0.6444\n",
      "Epoch 32/50\n",
      "4/4 [==============================] - 0s 4ms/step - loss: 0.7346 - accuracy: 0.6762 - val_loss: 0.7423 - val_accuracy: 0.8889\n",
      "Epoch 33/50\n",
      "4/4 [==============================] - 0s 4ms/step - loss: 0.7218 - accuracy: 0.7905 - val_loss: 0.7268 - val_accuracy: 0.8889\n",
      "Epoch 34/50\n",
      "4/4 [==============================] - 0s 4ms/step - loss: 0.7088 - accuracy: 0.8667 - val_loss: 0.7121 - val_accuracy: 0.7111\n",
      "Epoch 35/50\n",
      "4/4 [==============================] - 0s 4ms/step - loss: 0.6926 - accuracy: 0.7333 - val_loss: 0.7074 - val_accuracy: 0.6667\n",
      "Epoch 36/50\n",
      "4/4 [==============================] - 0s 6ms/step - loss: 0.6835 - accuracy: 0.6762 - val_loss: 0.6860 - val_accuracy: 0.8444\n",
      "Epoch 37/50\n",
      "4/4 [==============================] - 0s 5ms/step - loss: 0.6684 - accuracy: 0.7714 - val_loss: 0.6756 - val_accuracy: 0.7333\n",
      "Epoch 38/50\n",
      "4/4 [==============================] - 0s 4ms/step - loss: 0.6609 - accuracy: 0.7048 - val_loss: 0.6659 - val_accuracy: 0.6889\n",
      "Epoch 39/50\n",
      "4/4 [==============================] - 0s 4ms/step - loss: 0.6451 - accuracy: 0.7333 - val_loss: 0.6612 - val_accuracy: 0.6889\n",
      "Epoch 40/50\n",
      "4/4 [==============================] - 0s 4ms/step - loss: 0.6353 - accuracy: 0.7048 - val_loss: 0.6440 - val_accuracy: 0.9556\n",
      "Epoch 41/50\n",
      "4/4 [==============================] - 0s 4ms/step - loss: 0.6215 - accuracy: 0.9048 - val_loss: 0.6457 - val_accuracy: 0.6444\n",
      "Epoch 42/50\n",
      "4/4 [==============================] - 0s 4ms/step - loss: 0.6202 - accuracy: 0.7333 - val_loss: 0.6180 - val_accuracy: 0.7778\n",
      "Epoch 43/50\n",
      "4/4 [==============================] - 0s 4ms/step - loss: 0.5990 - accuracy: 0.7429 - val_loss: 0.6238 - val_accuracy: 0.9333\n",
      "Epoch 44/50\n",
      "4/4 [==============================] - 0s 4ms/step - loss: 0.5952 - accuracy: 0.9238 - val_loss: 0.5908 - val_accuracy: 0.9111\n",
      "Epoch 45/50\n",
      "4/4 [==============================] - 0s 4ms/step - loss: 0.5748 - accuracy: 0.8762 - val_loss: 0.5937 - val_accuracy: 0.6889\n",
      "Epoch 46/50\n",
      "4/4 [==============================] - 0s 4ms/step - loss: 0.5682 - accuracy: 0.7714 - val_loss: 0.5735 - val_accuracy: 0.7556\n",
      "Epoch 47/50\n",
      "4/4 [==============================] - 0s 4ms/step - loss: 0.5580 - accuracy: 0.8000 - val_loss: 0.5582 - val_accuracy: 0.9111\n",
      "Epoch 48/50\n",
      "4/4 [==============================] - 0s 4ms/step - loss: 0.5435 - accuracy: 0.8571 - val_loss: 0.5473 - val_accuracy: 0.9111\n",
      "Epoch 49/50\n",
      "4/4 [==============================] - 0s 4ms/step - loss: 0.5305 - accuracy: 0.8571 - val_loss: 0.5373 - val_accuracy: 0.9778\n",
      "Epoch 50/50\n",
      "4/4 [==============================] - 0s 4ms/step - loss: 0.5228 - accuracy: 0.9238 - val_loss: 0.5345 - val_accuracy: 0.9556\n"
     ]
    },
    {
     "data": {
      "text/plain": [
       "<keras.callbacks.History at 0x1203213f0>"
      ]
     },
     "execution_count": 8,
     "metadata": {},
     "output_type": "execute_result"
    }
   ],
   "source": [
    "# train the model\n",
    "model.fit(X_train, y_train, epochs=50, batch_size=32, validation_data=(X_test, y_test))"
   ]
  },
  {
   "cell_type": "code",
   "execution_count": 9,
   "metadata": {
    "collapsed": false
   },
   "outputs": [
    {
     "name": "stdout",
     "output_type": "stream",
     "text": [
      "2/2 [==============================] - 0s 1ms/step - loss: 0.5345 - accuracy: 0.9556\n",
      "Test accuracy: 0.9555555582046509\n"
     ]
    }
   ],
   "source": [
    "# evaluate the model on the test set\n",
    "test_loss, test_acc = model.evaluate(X_test, y_test)\n",
    "print('Test accuracy:', test_acc)"
   ]
  },
  {
   "cell_type": "code",
   "execution_count": null,
   "metadata": {},
   "outputs": [],
   "source": []
  }
 ],
 "metadata": {
  "kernelspec": {
   "display_name": "Python 3",
   "language": "python",
   "name": "python3"
  },
  "language_info": {
   "codemirror_mode": {
    "name": "ipython",
    "version": 3
   },
   "file_extension": ".py",
   "mimetype": "text/x-python",
   "name": "python",
   "nbconvert_exporter": "python",
   "pygments_lexer": "ipython3",
   "version": "3.10.6"
  }
 },
 "nbformat": 4,
 "nbformat_minor": 0
}
