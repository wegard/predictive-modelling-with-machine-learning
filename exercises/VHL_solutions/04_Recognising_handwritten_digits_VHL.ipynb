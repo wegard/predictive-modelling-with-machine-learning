{
 "cells": [
  {
   "cell_type": "markdown",
   "metadata": {},
   "source": [
    "# Exercise 4: Recognising handwritten digits\n",
    "\n",
    "### The digits dataset:\n",
    "Use the Scikit-learn digits dataset (`from sklearn.datasets import load_digits`).\n",
    "The data consist of images from handwritten digits and contains 250 samples from 44 writers.\n",
    "\n",
    "This data is stored in the `.data` member, which is an `n_samples`, `n_features` array."
   ]
  },
  {
   "cell_type": "markdown",
   "metadata": {},
   "source": [
    "## Exercises\n",
    "\n",
    "1. Load the digits dataset and print the shape of the data and the target.\n",
    "2. Display the ten first images and the training set and the corresponding target values.\n",
    "3. Split the data set into a training and test set and train a (multinomial) logistic regression classifier on the dataset and evaluate its accuracy.\n",
    "4. Write some code that draw one random image from the test set, displays this image, and print the predicted value of the digit.\n",
    "5. Train some alternative classifiers and compare their accuracy to the logistic regression classifier. Here are some suggested models:\n",
    "    a. Decision tree\n",
    "    b. K-nearest neighbors\n",
    "    c. Naive Bayes\n",
    "    d. Support vector machine (not covered in this course)\n",
    "6. Try to improve the accuracy of some classifiers by tuning the hyperparameters such as `max_depth` for the decision tree or `n_neighbors` for the KNN classifier.\n",
    "7. (Optional) If you want to experiment with a larger dataset, try the [MNIST dataset](http://yann.lecun.com/exdb/mnist/). This dataset contains 70,000 images of handwritten digits, and is a good starting point for more advanced image classification tasks."
   ]
  },
  {
   "cell_type": "code",
<<<<<<< HEAD
   "execution_count": 18,
=======
   "execution_count": null,
>>>>>>> a758e4a4267ad4122c0a3bb845bd2bd86f0c3ff5
   "metadata": {
    "collapsed": false,
    "jupyter": {
     "outputs_hidden": false
    }
   },
   "outputs": [],
   "source": [
    "# Solution 1\n",
    "\n",
    "from sklearn.datasets import load_digits\n",
    "import numpy as np\n",
    "import matplotlib.pyplot as plt\n",
    "\n",
    "digits = load_digits()\n",
    "\n",
    "print(np.shape(digits.data)) # We see that the data has 1797 rows and 64 columns that corresponds to the futures"
   ]
  },
  {
   "cell_type": "markdown",
   "metadata": {},
   "source": [
    "The \"truth\" for each row is given by the `.target` member. This is what we would like to learn. Given the features we would like to be able to predict this value."
   ]
  },
  {
   "cell_type": "code",
<<<<<<< HEAD
   "execution_count": 19,
=======
   "execution_count": null,
>>>>>>> a758e4a4267ad4122c0a3bb845bd2bd86f0c3ff5
   "metadata": {
    "collapsed": false,
    "jupyter": {
     "outputs_hidden": false
    }
   },
   "outputs": [],
   "source": [
    "print(digits.target) # The target is a number from 0 to 9"
   ]
  },
  {
   "cell_type": "markdown",
   "metadata": {},
   "source": [
    "We can also access the original image as `(8, 8)` pixels. Here is the first image:"
   ]
  },
  {
   "cell_type": "code",
<<<<<<< HEAD
   "execution_count": 20,
=======
   "execution_count": null,
>>>>>>> a758e4a4267ad4122c0a3bb845bd2bd86f0c3ff5
   "metadata": {
    "collapsed": false,
    "jupyter": {
     "outputs_hidden": false
    }
   },
   "outputs": [],
   "source": [
    "print(digits.images[0])"
   ]
  },
  {
   "cell_type": "markdown",
   "metadata": {},
   "source": [
    "The task is to predict, given an image, which digit it represents.\n",
    "We are given samples of each of the 10 possible classes (the digits zero through nine) on which we fit an estimator to be able to predict the classes to which unseen samples belong.\n",
    "\n",
    "The digits dataset consists of `8x8` pixel images of digits.\n",
    "The images attribute of the dataset stores `8x8` arrays of grayscale values for each image.\n",
    "We will use these arrays to visualize the first 4 images. The target attribute of the dataset stores the digit each image represents and this is included in the title of the 10 plots below."
   ]
  },
  {
   "cell_type": "code",
<<<<<<< HEAD
   "execution_count": 21,
=======
   "execution_count": null,
>>>>>>> a758e4a4267ad4122c0a3bb845bd2bd86f0c3ff5
   "metadata": {
    "collapsed": false,
    "jupyter": {
     "outputs_hidden": false
    }
   },
<<<<<<< HEAD
   "outputs": [
    {
     "data": {
      "image/png": "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",
      "text/plain": [
       "<Figure size 1500x300 with 10 Axes>"
      ]
     },
     "metadata": {},
     "output_type": "display_data"
    }
   ],
=======
   "outputs": [],
>>>>>>> a758e4a4267ad4122c0a3bb845bd2bd86f0c3ff5
   "source": [
    "_, axes = plt.subplots(nrows=1, ncols=10, figsize=(15, 3))\n",
    "for ax, image, label in zip(axes, digits.images, digits.target):\n",
    "    ax.imshow(image, cmap=plt.cm.gray_r, interpolation=\"nearest\")\n",
    "    ax.set_title(\"Training: %i\" % label)"
   ]
  },
  {
   "cell_type": "code",
<<<<<<< HEAD
   "execution_count": 22,
=======
   "execution_count": null,
>>>>>>> a758e4a4267ad4122c0a3bb845bd2bd86f0c3ff5
   "metadata": {
    "collapsed": false,
    "jupyter": {
     "outputs_hidden": false
    }
   },
<<<<<<< HEAD
   "outputs": [
    {
     "name": "stdout",
     "output_type": "stream",
     "text": [
      "Accuracy: 0.975\n"
     ]
    },
    {
     "name": "stderr",
     "output_type": "stream",
     "text": [
      "/Users/vegard/opt/anaconda3/envs/gra4160/lib/python3.10/site-packages/sklearn/linear_model/_logistic.py:1247: FutureWarning: 'multi_class' was deprecated in version 1.5 and will be removed in 1.7. From then on, it will always use 'multinomial'. Leave it to its default value to avoid this warning.\n",
      "  warnings.warn(\n"
     ]
    }
   ],
=======
   "outputs": [],
>>>>>>> a758e4a4267ad4122c0a3bb845bd2bd86f0c3ff5
   "source": [
    "# Solution 3\n",
    "# When the outcome has multiple classes, logistic regression can still be used,\n",
    "# but it needs to be extended to handle multiple classes.\n",
    "# This is known as multinomial logistic regression.\n",
    "\n",
    "from sklearn.linear_model import LogisticRegression\n",
    "from sklearn.model_selection import train_test_split\n",
    "\n",
    "X = digits.images.reshape((len(digits.images), -1))\n",
    "y = digits.target\n",
    "\n",
    "# Split the data into training and test sets\n",
    "X_train, X_test, y_train, y_test = train_test_split(X, y, test_size=0.2, random_state=42)\n",
    "\n",
    "# Train a logistic regression classifier\n",
    "clf_lr = LogisticRegression(multi_class=\"multinomial\", solver=\"lbfgs\", max_iter=10000)\n",
    "clf_lr.fit(X_train, y_train)\n",
    "\n",
    "# Evaluate the classifier on the test set\n",
    "acc_lr = clf_lr.score(X_test, y_test)\n",
    "print(\"Accuracy:\", acc_lr)"
   ]
  },
  {
   "cell_type": "code",
<<<<<<< HEAD
   "execution_count": 23,
=======
   "execution_count": null,
>>>>>>> a758e4a4267ad4122c0a3bb845bd2bd86f0c3ff5
   "metadata": {
    "collapsed": false,
    "jupyter": {
     "outputs_hidden": false
    }
   },
<<<<<<< HEAD
   "outputs": [
    {
     "name": "stdout",
     "output_type": "stream",
     "text": [
      "Random image is number: 264 and the corresponding target is: 7 and the corresponding image is:\n"
     ]
    },
    {
     "data": {
      "image/png": "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",
      "text/plain": [
       "<Figure size 640x480 with 1 Axes>"
      ]
     },
     "metadata": {},
     "output_type": "display_data"
    }
   ],
=======
   "outputs": [],
>>>>>>> a758e4a4267ad4122c0a3bb845bd2bd86f0c3ff5
   "source": [
    "# Solution 4\n",
    "# Load an image and reshape it to the correct shape\n",
    "\n",
    "random_image = np.random.choice(range(len(X_test)))\n",
    "print(\"Random image is number:\", random_image, \"and the corresponding target is:\", y_test[random_image], \"and the corresponding image is:\")\n",
    "\n",
    "img = X_test[random_image, :].reshape(1, -1)\n",
    "img_to_disp = X_test[random_image, :].reshape(8, 8)\n",
    "\n",
    "plt.imshow(img_to_disp, cmap=plt.cm.gray_r, interpolation=\"nearest\")\n",
    "plt.show()"
   ]
  },
  {
   "cell_type": "code",
<<<<<<< HEAD
   "execution_count": 24,
=======
   "execution_count": null,
>>>>>>> a758e4a4267ad4122c0a3bb845bd2bd86f0c3ff5
   "metadata": {
    "collapsed": false,
    "jupyter": {
     "outputs_hidden": false
    }
   },
<<<<<<< HEAD
   "outputs": [
    {
     "name": "stdout",
     "output_type": "stream",
     "text": [
      "The prediction for the image is: 7\n"
     ]
    }
   ],
=======
   "outputs": [],
>>>>>>> a758e4a4267ad4122c0a3bb845bd2bd86f0c3ff5
   "source": [
    "# Make a prediction for the image\n",
    "prediction = clf_lr.predict(img)\n",
    "print(\"The prediction for the image is:\", prediction[0])"
   ]
  },
  {
   "cell_type": "code",
<<<<<<< HEAD
   "execution_count": 25,
=======
   "execution_count": null,
>>>>>>> a758e4a4267ad4122c0a3bb845bd2bd86f0c3ff5
   "metadata": {
    "collapsed": false,
    "jupyter": {
     "outputs_hidden": false
    }
   },
<<<<<<< HEAD
   "outputs": [
    {
     "name": "stdout",
     "output_type": "stream",
     "text": [
      "Accuracy: 0.8555555555555555\n"
     ]
    }
   ],
=======
   "outputs": [],
>>>>>>> a758e4a4267ad4122c0a3bb845bd2bd86f0c3ff5
   "source": [
    "# Solution 5a: Decision tree\n",
    "\n",
    "from sklearn.tree import DecisionTreeClassifier\n",
    "\n",
    "# Train a Decision Tree Classifier\n",
    "clf_dt = DecisionTreeClassifier()\n",
    "clf_dt.fit(X_train, y_train)\n",
    "\n",
    "# Evaluate the classifier's accuracy on the test data\n",
    "acc_dt = clf_dt.score(X_test, y_test)\n",
    "print(\"Accuracy:\", acc_dt)"
   ]
  },
  {
   "cell_type": "code",
<<<<<<< HEAD
   "execution_count": 26,
=======
   "execution_count": null,
>>>>>>> a758e4a4267ad4122c0a3bb845bd2bd86f0c3ff5
   "metadata": {
    "collapsed": false,
    "jupyter": {
     "outputs_hidden": false
    }
   },
<<<<<<< HEAD
   "outputs": [
    {
     "name": "stdout",
     "output_type": "stream",
     "text": [
      "Accuracy: 0.9861111111111112\n"
     ]
    }
   ],
=======
   "outputs": [],
>>>>>>> a758e4a4267ad4122c0a3bb845bd2bd86f0c3ff5
   "source": [
    "# Solution 5b: K-nearest neighbors\n",
    "\n",
    "from sklearn.neighbors import KNeighborsClassifier\n",
    "\n",
    "# Train a K-nearest neighbors classifier\n",
    "clf_knn = KNeighborsClassifier()\n",
    "clf_knn.fit(X_train, y_train)\n",
    "\n",
    "# Evaluate the classifier's accuracy on the test data\n",
    "acc_knn = clf_knn.score(X_test, y_test)\n",
    "print(\"Accuracy:\", acc_knn)"
   ]
  },
  {
   "cell_type": "code",
<<<<<<< HEAD
   "execution_count": 27,
=======
   "execution_count": null,
>>>>>>> a758e4a4267ad4122c0a3bb845bd2bd86f0c3ff5
   "metadata": {
    "collapsed": false,
    "jupyter": {
     "outputs_hidden": false
    }
   },
<<<<<<< HEAD
   "outputs": [
    {
     "name": "stdout",
     "output_type": "stream",
     "text": [
      "Accuracy: 0.9111111111111111\n"
     ]
    }
   ],
=======
   "outputs": [],
>>>>>>> a758e4a4267ad4122c0a3bb845bd2bd86f0c3ff5
   "source": [
    "# Solution 5c: Naive Bayes\n",
    "\n",
    "from sklearn.naive_bayes import MultinomialNB\n",
    "\n",
    "# Train a Naive Bayes classifier\n",
    "clf_nb = MultinomialNB()\n",
    "clf_nb.fit(X_train, y_train)\n",
    "\n",
    "# Evaluate the classifier's accuracy on the test data\n",
    "acc_nb = clf_nb.score(X_test, y_test)\n",
    "print(\"Accuracy:\", acc_nb)"
   ]
  },
  {
   "cell_type": "code",
<<<<<<< HEAD
   "execution_count": 28,
=======
   "execution_count": null,
>>>>>>> a758e4a4267ad4122c0a3bb845bd2bd86f0c3ff5
   "metadata": {
    "collapsed": false,
    "jupyter": {
     "outputs_hidden": false
    }
   },
<<<<<<< HEAD
   "outputs": [
    {
     "name": "stdout",
     "output_type": "stream",
     "text": [
      "Accuracy: 0.9861111111111112\n"
     ]
    }
   ],
=======
   "outputs": [],
>>>>>>> a758e4a4267ad4122c0a3bb845bd2bd86f0c3ff5
   "source": [
    "# Solution 5d: Support vector machine\n",
    "\n",
    "from sklearn.svm import SVC\n",
    "\n",
    "# Train a Support Vector Machine classifier\n",
    "clf_svm = SVC()\n",
    "clf_svm.fit(X_train, y_train)\n",
    "\n",
    "# Evaluate the classifier's accuracy on the test data\n",
    "acc_svm = clf_svm.score(X_test, y_test)\n",
    "print(\"Accuracy:\", acc_svm)"
   ]
  },
  {
   "cell_type": "code",
<<<<<<< HEAD
   "execution_count": 29,
=======
   "execution_count": null,
>>>>>>> a758e4a4267ad4122c0a3bb845bd2bd86f0c3ff5
   "metadata": {
    "collapsed": false,
    "jupyter": {
     "outputs_hidden": false
    }
   },
<<<<<<< HEAD
   "outputs": [
    {
     "ename": "AttributeError",
     "evalue": "'float' object has no attribute 'round'",
     "output_type": "error",
     "traceback": [
      "\u001b[0;31m---------------------------------------------------------------------------\u001b[0m",
      "\u001b[0;31mAttributeError\u001b[0m                            Traceback (most recent call last)",
      "Cell \u001b[0;32mIn[29], line 23\u001b[0m\n\u001b[1;32m     20\u001b[0m dtc\u001b[38;5;241m.\u001b[39mset_params(max_depth\u001b[38;5;241m=\u001b[39mmax_depth, min_samples_split\u001b[38;5;241m=\u001b[39mmin_samples_split)\n\u001b[1;32m     22\u001b[0m dtc\u001b[38;5;241m.\u001b[39mfit(X_train, y_train)\n\u001b[0;32m---> 23\u001b[0m \u001b[38;5;28mprint\u001b[39m(\u001b[38;5;124m\"\u001b[39m\u001b[38;5;124mmax_depth:\u001b[39m\u001b[38;5;124m\"\u001b[39m, max_depth, \u001b[38;5;124m\"\u001b[39m\u001b[38;5;124mmin_samples_split:\u001b[39m\u001b[38;5;124m\"\u001b[39m, min_samples_split, \u001b[38;5;124m\"\u001b[39m\u001b[38;5;124m Accuracy:\u001b[39m\u001b[38;5;124m\"\u001b[39m, \u001b[43mdtc\u001b[49m\u001b[38;5;241;43m.\u001b[39;49m\u001b[43mscore\u001b[49m\u001b[43m(\u001b[49m\u001b[43mX_test\u001b[49m\u001b[43m,\u001b[49m\u001b[43m \u001b[49m\u001b[43my_test\u001b[49m\u001b[43m)\u001b[49m\u001b[38;5;241;43m.\u001b[39;49m\u001b[43mround\u001b[49m(\u001b[38;5;241m4\u001b[39m))\n",
      "\u001b[0;31mAttributeError\u001b[0m: 'float' object has no attribute 'round'"
     ]
    }
   ],
=======
   "outputs": [],
>>>>>>> a758e4a4267ad4122c0a3bb845bd2bd86f0c3ff5
   "source": [
    "# Solution 6: Hyperparameter tuning\n",
    "\n",
    "# Decision tree classifier\n",
    "\n",
    "# Define the parameter grid\n",
    "param_grid = {\n",
    "    'max_depth': [10, 20, None],\n",
    "    'min_samples_split': [2, 6, 10]\n",
    "}\n",
    "\n",
    "# max_depth: The maximum depth of the tree. If None, then nodes are expanded until all leaves are pure or until all leaves contain less than min_samples_split samples.\n",
    "# min_samples_split: The minimum number of samples required to split an internal node.\n",
    "# Setting min_samples_split to a higher value can make the tree more compact and reduce overfitting.\n",
    "# On the other hand, setting it to a lower value can lead to more complex trees that may overfit the data.\n",
    "\n",
    "# Initialize the classifier\n",
    "dtc = DecisionTreeClassifier()\n",
    "for max_depth in param_grid['max_depth']:\n",
    "    for min_samples_split in param_grid['min_samples_split']:\n",
    "        dtc.set_params(max_depth=max_depth, min_samples_split=min_samples_split)\n",
    "        \n",
    "        dtc.fit(X_train, y_train)\n",
    "        print(\"max_depth:\", max_depth, \"min_samples_split:\", min_samples_split, \" Accuracy:\", dtc.score(X_test, y_test).round(4))"
   ]
  },
  {
   "cell_type": "code",
   "execution_count": null,
   "metadata": {
    "collapsed": false,
    "jupyter": {
     "outputs_hidden": false
    }
   },
   "outputs": [],
   "source": [
    "# K-nearest neighbors classifier\n",
    "\n",
    "# Define the para# Define the parameter grid\n",
    "param_grid = {\n",
    "    'n_neighbors': [3, 5, 7, 9, 11]\n",
    "}\n",
    "\n",
    "# n_neighbors: Number of neighbors to used by the k-neighbors algorithm.\n",
    "\n",
    "# Initialize the classifier\n",
    "knn = KNeighborsClassifier()\n",
    "for n_neighbors in param_grid['n_neighbors']:\n",
    "    knn.set_params(n_neighbors=n_neighbors)\n",
    "    knn.fit(X_train, y_train)\n",
    "    print(\"n_neighbors:\", n_neighbors, \" Accuracy:\", knn.score(X_test, y_test).round(4))"
   ]
  },
  {
   "cell_type": "code",
   "execution_count": null,
   "metadata": {
    "collapsed": false,
    "jupyter": {
     "outputs_hidden": false
    }
   },
   "outputs": [],
   "source": []
  },
  {
   "cell_type": "code",
   "execution_count": null,
   "metadata": {
    "collapsed": false,
    "jupyter": {
     "outputs_hidden": false
    }
   },
   "outputs": [],
   "source": []
  }
 ],
 "metadata": {
  "kernelspec": {
   "display_name": "gra4160",
   "language": "python",
   "name": "python3"
  },
  "language_info": {
   "codemirror_mode": {
    "name": "ipython",
    "version": 3
   },
   "file_extension": ".py",
   "mimetype": "text/x-python",
   "name": "python",
   "nbconvert_exporter": "python",
   "pygments_lexer": "ipython3",
   "version": "3.10.6"
  }
 },
 "nbformat": 4,
 "nbformat_minor": 4
}
