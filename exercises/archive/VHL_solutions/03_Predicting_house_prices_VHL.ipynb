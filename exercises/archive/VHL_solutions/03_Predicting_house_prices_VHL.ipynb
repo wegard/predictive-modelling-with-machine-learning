{
 "cells": [
  {
   "cell_type": "markdown",
   "metadata": {},
   "source": [
    "# Exercise 03: Predicting house prices\n",
    "\n",
    "### GRA 4160\n",
    "\n",
    "Data: https://www.kaggle.com/c/house-prices-advanced-regression-techniques\n",
    "\n",
    "The dataset is taken from a Kaggle competition, and it contains information about houses in Ames, Iowa.\n",
    "The goal of the competition was to predict the sale price of a house based on various features of the house.\n",
    "\n",
    "The dataset includes the following information:\n",
    "\n",
    "1. SalePrice: the sale price of the house (the target variable)\n",
    "2. Various features of the house such as the overall quality, the living area, the number of bedrooms and bathrooms, the year built, etc.\n",
    "3. Various features of the neighborhood such as the overall condition of the property, the proximity to various amenities, etc.\n",
    "\n",
    "The dataset includes 1460 observations (houses) and 81 variables (features). The variables include both numerical and categorical variables.\n",
    "\n",
    "Some numerical variables are continuous, while others are discrete and some categorical variables are ordinal (natural ordering among the categories), while others are nominal (do not have any inherent ordering).\n",
    "\n",
    "The dataset is a good example of a real-world dataset that requires feature engineering, cleaning, and preprocessing before the model can be trained on it.\n",
    "There are missing values and outliers in the dataset that you must deal with."
   ]
  },
  {
   "cell_type": "markdown",
   "metadata": {},
   "source": [
    "## Exercises:\n",
    "\n",
    "1. Load the house price dataset. Have a look at its variables. What do you think are the best predictors for the sale price?\n",
    "2. Split the data into a training and a test set (create the variables `X_train`, `X_test`, `y_train`, `y_test`).\n",
    "3. Do some data cleaning and preprocessing:\n",
    "\n",
    "   a. At least keep the numerical columns and drop the missing values.\n",
    "   \n",
    "   b. Normalize the data (e.g., make all columns into mean zero with a standard deviation of one).\n",
    "   \n",
    "4. Train a model for predicting the house price using the numerical columns of the dataset. Report both the in-sample and the out-of-sample performance of the model. Report at least the Mean Squared Error (MSE) and the $R^2$.\n",
    "5. Do the same using Ridge and Lasso models.\n",
    "6. Use the Lasso algorithm to identify the 10 most important features in the data set. Tips: You can use the `from sklearn.feature_selection import SelectFromModel` method.\n",
    "7. Train a linear regression model where you only include the 10 most important features you found in 6. Report at least the Mean Squared Error (MSE) and $R^2$.\n",
    "8. Write some code so that you can experiment with how changing the inputs affect the predicted price. You can for example write a function that takes a vector of not normalized features for one or more units as inputs and then the function returns the predicted price for these units. Make your code so that you can pass in training data that is not normalized (data should be normalized before making the prediction). The price that the function returns should not be normalized. Try to change some features (one by one) and see how the price predictions change."
   ]
  },
  {
   "cell_type": "code",
   "execution_count": null,
   "metadata": {
    "collapsed": false,
    "jupyter": {
     "outputs_hidden": false
    }
   },
   "outputs": [],
   "source": [
    "# Exercise 1\n",
    "\n",
    "import pandas as pd\n",
    "\n",
    "data = pd.read_csv('../../data/house-prices/train.csv')\n",
    "data.head()"
   ]
  },
  {
   "cell_type": "code",
   "execution_count": null,
   "metadata": {
    "collapsed": false,
    "jupyter": {
     "outputs_hidden": false
    }
   },
   "outputs": [],
   "source": [
    "# Exercise 2\n",
    "\n",
    "from sklearn.model_selection import train_test_split\n",
    "\n",
    "X = data.drop(\"SalePrice\", axis=1)\n",
    "y = data[\"SalePrice\"]\n",
    "\n",
    "# Split the data into train and test sets\n",
    "X_train, X_test, y_train, y_test = train_test_split(X, y,\n",
    "                                                    test_size=0.33,\n",
    "                                                    random_state=10)"
   ]
  },
  {
   "cell_type": "code",
   "execution_count": null,
   "metadata": {
    "collapsed": false,
    "jupyter": {
     "outputs_hidden": false
    }
   },
   "outputs": [],
   "source": [
    "# Exercise 3a\n",
    "\n",
    "# numeric and categorical columns\n",
    "numeric_cols = X_train.select_dtypes(include=['int64', 'float64']).columns\n",
    "categorical_cols = X_train.select_dtypes(include=['object']).columns\n",
    "\n",
    "# We drop the rows with nans\n",
    "X_train_num = X_train[numeric_cols].dropna()\n",
    "X_test_num = X_test[numeric_cols].dropna()\n",
    "\n",
    "# Keep only the y´s where there are no nans\n",
    "y_train_num = y_train.loc[X_train_num.index]\n",
    "y_test_num = y_test.loc[X_test_num.index]"
   ]
  },
  {
   "cell_type": "code",
   "execution_count": null,
   "metadata": {
    "collapsed": false,
    "jupyter": {
     "outputs_hidden": false
    }
   },
   "outputs": [],
   "source": [
    "# Exercise 3b\n",
    "\n",
    "from sklearn.preprocessing import StandardScaler\n",
    "\n",
    "# initialize the StandardScaler\n",
    "scaler_x = StandardScaler()\n",
    "scaler_x.fit(X_train_num)\n",
    "\n",
    "scaler_y = StandardScaler()\n",
    "scaler_y.fit(y_train_num.values.reshape(-1,1))\n",
    "\n",
    "# Normalize the data\n",
    "X_train_norm = pd.DataFrame(scaler_x.transform(X_train_num),\n",
    "                            index=X_train_num.index, columns=X_train_num.columns)\n",
    "X_test_norm = pd.DataFrame(scaler_x.transform(X_test_num),\n",
    "                           index=X_test_num.index, columns=X_test_num.columns)\n",
    "\n",
    "y_train_norm = pd.DataFrame(scaler_y.transform(y_train_num.values.reshape(-1,1)),\n",
    "                            index=y_train_num.index, columns=['SalePrice'])['SalePrice']\n",
    "y_test_norm = pd.DataFrame(scaler_y.transform(y_test_num.values.reshape(-1,1)),\n",
    "                           index=y_test_num.index, columns=['SalePrice'])['SalePrice']"
   ]
  },
  {
   "cell_type": "code",
   "execution_count": null,
   "metadata": {
    "collapsed": false,
    "jupyter": {
     "outputs_hidden": false
    }
   },
   "outputs": [],
   "source": [
    "# Exercise 4\n",
    "\n",
    "from sklearn.linear_model import LinearRegression\n",
    "from sklearn.metrics import mean_squared_error, r2_score\n",
    "\n",
    "# Initialize the Linear Regression model\n",
    "lm = LinearRegression()\n",
    "\n",
    "# Fit the model to the training data\n",
    "lm.fit(X_train_norm, y_train_norm)"
   ]
  },
  {
   "cell_type": "code",
   "execution_count": null,
   "metadata": {},
   "outputs": [],
   "source": [
    "# In sample fit\n",
    "y_lm = lm.predict(X_train_norm)\n",
    "\n",
    "# In sample  performance\n",
    "mse_lm_is = mean_squared_error(y_train_norm, y_lm)\n",
    "r2_lm_is = r2_score(y_train_norm, y_lm)\n",
    "\n",
    "print(f'In sample mean Squared Error (LM): {mse_lm_is:.4f}')\n",
    "print(f'In sample R-Squared (LM): {r2_lm_is:.4f}\\n')"
   ]
  },
  {
   "cell_type": "code",
   "execution_count": null,
   "metadata": {},
   "outputs": [],
   "source": [
    "# Make predictions on the test data\n",
    "y_pred_lm = lm.predict(X_test_norm)\n",
    "\n",
    "# Evaluate the model's performance\n",
    "mse_lm = mean_squared_error(y_test_norm, y_pred_lm)\n",
    "r2_lm = r2_score(y_test_norm, y_pred_lm)\n",
    "\n",
    "print(f'Mean Squared Error (LM): {mse_lm:.4f}')\n",
    "print(f'R-Squared (LM): {r2_lm:.4f}')"
   ]
  },
  {
   "cell_type": "code",
   "execution_count": null,
   "metadata": {
    "collapsed": false,
    "jupyter": {
     "outputs_hidden": false
    }
   },
   "outputs": [],
   "source": [
    "# Exercise 5\n",
    "\n",
    "from sklearn.linear_model import Ridge, Lasso\n",
    "\n",
    "# Initialize the models\n",
    "ridge = Ridge(alpha=0.5)\n",
    "lasso = Lasso(alpha=0.01)\n",
    "\n",
    "# Fit the models to the training data\n",
    "ridge.fit(X_train_norm, y_train_norm)\n",
    "lasso.fit(X_train_norm, y_train_norm)"
   ]
  },
  {
   "cell_type": "code",
   "execution_count": null,
   "metadata": {},
   "outputs": [],
   "source": [
    "# Make predictions on the train data\n",
    "y_ridge = ridge.predict(X_train_norm)\n",
    "y_lasso = lasso.predict(X_train_norm)\n",
    "\n",
    "mse_ridge_is = mean_squared_error(y_train_norm, y_ridge)\n",
    "mse_lasso_is = mean_squared_error(y_train_norm, y_lasso)\n",
    "r2_ridge_is = r2_score(y_train_norm, y_ridge)\n",
    "r2_lasso_is = r2_score(y_train_norm, y_lasso)\n",
    "\n",
    "print(f'In sample mean Squared Error (Ridge): {mse_ridge_is:.4f}')\n",
    "print(f'In sample mean Squared Error (Lasso): {mse_lasso_is:.4f}')\n",
    "print(f'In sample  R-Squared (Ridge): {r2_ridge_is:.4f}')\n",
    "print(f'In sample  R-Squared (Lasso): {r2_lasso_is:.4f}')"
   ]
  },
  {
   "cell_type": "code",
   "execution_count": null,
   "metadata": {},
   "outputs": [],
   "source": [
    "# Make predictions on the test data\n",
    "y_pred_ridge = ridge.predict(X_test_norm)\n",
    "y_pred_lasso = lasso.predict(X_test_norm)\n",
    "\n",
    "# Evaluate the model's performance\n",
    "mse_ridge = mean_squared_error(y_test_norm, y_pred_ridge)\n",
    "mse_lasso = mean_squared_error(y_test_norm, y_pred_lasso)\n",
    "r2_ridge = r2_score(y_test_norm, y_pred_ridge)\n",
    "r2_lasso = r2_score(y_test_norm, y_pred_lasso)\n",
    "\n",
    "print(f'Mean Squared Error (Ridge): {mse_ridge:.4f}')\n",
    "print(f'Mean Squared Error (Lasso): {mse_lasso:.4f}')\n",
    "print(f'R-Squared (Ridge): {r2_ridge:.4f}')\n",
    "print(f'R-Squared (Lasso): {r2_lasso:.4f}')"
   ]
  },
  {
   "cell_type": "code",
   "execution_count": null,
   "metadata": {
    "collapsed": false,
    "jupyter": {
     "outputs_hidden": false
    }
   },
   "outputs": [],
   "source": [
    "# Exercise 6\n",
    "\n",
    "from sklearn.linear_model import Lasso\n",
    "from sklearn.feature_selection import SelectFromModel\n",
    "\n",
    "# Initialize the Lasso model\n",
    "lasso = Lasso(alpha=0.01)\n",
    "\n",
    "# Fit the model to the training data\n",
    "lasso.fit(X_train_norm, y_train_norm)\n",
    "\n",
    "# Create a SelectFromModel object to select the 10 most important features\n",
    "sfm = SelectFromModel(lasso, max_features=10)\n",
    "\n",
    "# Fit the SelectFromModel object to the training data\n",
    "sfm.fit(X_train_norm, y_train_norm)\n",
    "\n",
    "# Get the selected features\n",
    "important_features = X_train_norm.columns[sfm.get_support()]\n",
    "print(\"The 10 most important features are: \", important_features)"
   ]
  },
  {
   "cell_type": "code",
   "execution_count": null,
   "metadata": {
    "collapsed": false,
    "jupyter": {
     "outputs_hidden": false
    }
   },
   "outputs": [],
   "source": [
    "# Exercise 7\n",
    "\n",
    "# Initialize the Linear Regression model\n",
    "lm2 = LinearRegression()\n",
    "\n",
    "# Fit the model to the training data\n",
    "lm2.fit(X_train_norm[important_features], y_train_norm)\n",
    "\n",
    "# Make predictions on the test data\n",
    "y_pred_lm2 = lm2.predict(X_test_norm[important_features])\n",
    "\n",
    "# Evaluate the model's performance\n",
    "mse_lm2 = mean_squared_error(y_test_norm, y_pred_lm2)\n",
    "r2_lm2 = r2_score(y_test_norm, y_pred_lm2)\n",
    "\n",
    "print(f'Mean Squared Error (LM): {mse_lm2:.4f}')\n",
    "print(f'R-Squared (LM): {r2_lm2:.4f}')"
   ]
  },
  {
   "cell_type": "code",
   "execution_count": null,
   "metadata": {
    "collapsed": false,
    "jupyter": {
     "outputs_hidden": false
    }
   },
   "outputs": [],
   "source": [
    "# Exercise 8\n",
    "\n",
    "def inspectPrediction(model, observed_units):\n",
    "    price_prediction = model.predict(pd.DataFrame(scaler_x.transform(observed_units), index=observed_units.index, columns=observed_units.columns))\n",
    "    return(scaler_y.inverse_transform(price_prediction.reshape(-1,1)))"
   ]
  },
  {
   "cell_type": "code",
   "execution_count": null,
   "metadata": {
    "collapsed": false,
    "jupyter": {
     "outputs_hidden": false
    }
   },
   "outputs": [],
   "source": [
    "observed_units = X_test_num.iloc[0:5].copy()\n",
    "observed_units"
   ]
  },
  {
   "cell_type": "code",
   "execution_count": null,
   "metadata": {
    "collapsed": false,
    "jupyter": {
     "outputs_hidden": false
    }
   },
   "outputs": [],
   "source": [
    "first_5_predicted_price = pd.DataFrame(inspectPrediction(lm, observed_units), index=y_test_num.iloc[0:5].index, columns=['SalePrice'])\n",
    "first_five_actual_price = y_test_num.iloc[0:5]"
   ]
  },
  {
   "cell_type": "code",
   "execution_count": null,
   "metadata": {
    "collapsed": false,
    "jupyter": {
     "outputs_hidden": false
    }
   },
   "outputs": [],
   "source": [
    "# change some features\n",
    "observed_units.at[854, 'OverallQual'] = 8\n",
    "observed_units.at[381, 'YearBuilt'] = 1970\n",
    "\n",
    "observed_units"
   ]
  },
  {
   "cell_type": "code",
   "execution_count": null,
   "metadata": {
    "collapsed": false,
    "jupyter": {
     "outputs_hidden": false
    }
   },
   "outputs": [],
   "source": [
    "first_5_predicted_price_changed = pd.DataFrame(inspectPrediction(lm, observed_units), index=y_test_num.iloc[0:5].index,\n",
    "                                       columns=['SalePrice'])\n",
    "\n",
    "pd.DataFrame([first_five_actual_price, first_5_predicted_price['SalePrice'], first_5_predicted_price_changed['SalePrice']],\n",
    "             index=['Actual', 'Predicted', 'Edited']).T"
   ]
  },
  {
   "cell_type": "code",
   "execution_count": null,
   "metadata": {},
   "outputs": [],
   "source": []
  },
  {
   "cell_type": "code",
   "execution_count": null,
   "metadata": {},
   "outputs": [],
   "source": []
  }
 ],
 "metadata": {
  "kernelspec": {
   "display_name": "Python 3 (ipykernel)",
   "language": "python",
   "name": "python3"
  },
  "language_info": {
   "codemirror_mode": {
    "name": "ipython",
    "version": 3
   },
   "file_extension": ".py",
   "mimetype": "text/x-python",
   "name": "python",
   "nbconvert_exporter": "python",
   "pygments_lexer": "ipython3",
   "version": "3.9.18"
  }
 },
 "nbformat": 4,
 "nbformat_minor": 4
}
