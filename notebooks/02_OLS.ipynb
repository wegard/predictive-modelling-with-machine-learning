{
 "cells": [
  {
   "cell_type": "markdown",
   "metadata": {},
   "source": [
    "# Ordinary Least Squares (OLS) regression\n",
    "\n",
    "### Predictive modelling with machine learning\n",
    "\n",
    "#### Lecturer: Vegard H. Larsen"
   ]
  },
  {
   "cell_type": "markdown",
   "metadata": {},
   "source": [
    "### Start by generating some data"
   ]
  },
  {
   "cell_type": "code",
   "execution_count": 19,
   "metadata": {
    "collapsed": false,
    "jupyter": {
     "outputs_hidden": false
    }
   },
   "outputs": [],
   "source": [
    "import numpy as np\n",
    "import pandas as pd\n",
    "import matplotlib.pyplot as plt"
   ]
  },
  {
   "cell_type": "code",
   "execution_count": 20,
   "metadata": {
    "collapsed": false,
    "jupyter": {
     "outputs_hidden": false
    }
   },
   "outputs": [],
   "source": [
    "# Set the number of regressors or futures\n",
    "n_features = 1\n",
    "\n",
    "# Set the number of observations\n",
    "n_samples = 100\n",
    "\n",
    "# Set intercept to True/False\n",
    "has_intercept = True\n",
    "\n",
    "# Generate some random futures from a Uniform(0,1)\n",
    "X = np.random.rand(n_samples, n_features)\n",
    "\n",
    "# Generate the true coefficients, also from a Uniform(0,1)\n",
    "coeffs = np.random.rand(n_features).round(2)\n",
    "\n",
    "# The data generating process is y = intercept + sum_i coeff_i * x_i + 0.2*u_i\n",
    "# where u_i is normally distributed error term,  N(O,1).\n",
    "if has_intercept:\n",
    "    intercept = np.random.rand(1).round(2)[0]\n",
    "    y = intercept + np.dot(X, coeffs) + 0.2*np.random.randn(n_samples)\n",
    "    y_true = intercept + np.dot(X, coeffs)\n",
    "else:\n",
    "    intercept = 0\n",
    "    y = np.dot(X, coeffs) + 0.2*np.random.randn(n_samples)\n",
    "    y_true = np.dot(X, coeffs)"
   ]
  },
  {
   "cell_type": "code",
   "execution_count": 21,
   "metadata": {
    "collapsed": false,
    "jupyter": {
     "outputs_hidden": false
    }
   },
   "outputs": [
    {
     "name": "stdout",
     "output_type": "stream",
     "text": [
      "The true coefficients are/is: [0.09]\n",
      "The true intercept is: 0.53\n"
     ]
    }
   ],
   "source": [
    "print(f'The true coefficients are/is: {coeffs}')\n",
    "if has_intercept:\n",
    "    print(f'The true intercept is: {intercept}')"
   ]
  },
  {
   "cell_type": "code",
   "execution_count": null,
   "metadata": {},
   "outputs": [
    {
     "data": {
      "image/png": "[encoded data removed]",
      "text/plain": [
       "<Figure size 600x300 with 1 Axes>"
      ]
     },
     "metadata": {},
     "output_type": "display_data"
    }
   ],
   "source": [
    "import matplotlib.pyplot as plt\n",
    "import numpy as np\n",
    "\n",
    "# Assuming n_features, X, y, y_true, intercept, coeffs are already defined\n",
    "if n_features == 1:\n",
    "    plt.figure(figsize=(6, 3))\n",
    "    plt.scatter(X, y, label='Data')\n",
    "    plt.plot(X, y_true, color='red', label=f'DGP ($y={intercept} + {coeffs[0]}x$)')\n",
    "\n",
    "    # Randomly select 20 points\n",
    "    indices = np.random.choice(range(len(X)), 20, replace=False)\n",
    "    for i in indices:\n",
    "        # Draw line from point to regression line\n",
    "        plt.plot([X[i], X[i]], [y[i], y_true[i]], color='green', linestyle='--')\n",
    "\n",
    "    plt.legend()\n",
    "    plt.xlabel('$x$-value')\n",
    "    plt.ylabel('$y$-value')\n",
    "    # Save the figure\n",
    "    plt.tight_layout()\n",
    "    plt.savefig('regression_example.png')\n",
    "else:\n",
    "    print('Can only plot a two-dimensional figure.')\n"
   ]
  },
  {
   "cell_type": "markdown",
   "metadata": {},
   "source": [
    "The goal now is to recover the data generating process (DGP) by using the observed data, $X$."
   ]
  },
  {
   "cell_type": "markdown",
   "metadata": {},
   "source": [
    "### Basic OLS recap:\n",
    "\n",
    "The ordinary least squares (OLS) method is a linear regression technique that finds the coefficients (also called weights or parameters) that minimize the sum of the squared residuals between the predicted values and the true values. Mathematically, this can be written as the following optimization problem\n",
    "\n",
    "$$\\arg\\min_{\\beta} \\sum_{i=1}^n (y_i - \\beta^T x_i)^2$$\n",
    "\n",
    "where $x_i$ is the $i$-th feature vector, $y_i$ is the $i$-th target, $\\beta$ is the coefficient vector (also called the betas). The optimal values of $\\beta$ are the OLS coefficients.\n",
    "\n",
    "To solve this optimization problem, we can set the derivative of the objective function with respect to $\\beta$ to zero and solve for $\\beta$. This leads to the following closed-form solution for the OLS coefficients:\n",
    "\n",
    "$$\\beta = (X^T X)^{-1} X^T y$$\n",
    "\n",
    "where $X$ is the feature matrix with shape (n_samples, n_features), $y$ is the target vector with shape (n_samples).\n",
    "\n",
    "We can easily solve for $\\beta$ using NumPy:"
   ]
  },
  {
   "cell_type": "code",
   "execution_count": 23,
   "metadata": {
    "collapsed": false,
    "jupyter": {
     "outputs_hidden": false
    }
   },
   "outputs": [
    {
     "name": "stdout",
     "output_type": "stream",
     "text": [
      "The estimated coefficients are: [0.13]\n",
      "The estimated intercept is: 0.52\n"
     ]
    }
   ],
   "source": [
    "if has_intercept == True:\n",
    "    X_ = np.column_stack((np.ones(n_samples), X))    \n",
    "    betas = np.linalg.inv(X_.T@X_)@(X_.T@y)\n",
    "    print(f'The estimated coefficients are: { betas[1:].round(3)}')\n",
    "    print(f'The estimated intercept is: { betas[0].round(3)}')\n",
    "else:\n",
    "    betas = np.linalg.inv(X.T@X)@(X.T@y)\n",
    "    print(f'The estimated coefficients are: { betas.round(3)}')"
   ]
  },
  {
   "cell_type": "markdown",
   "metadata": {},
   "source": [
    "### Let's write a few more lines of code using OOP\n",
    "\n",
    "We will now use object-oriented programming (OOP) when coding up the ordinary least squares (OLS) method. This is the way every serious package in Python is written, and it is smart to start to think in this framework right away."
   ]
  },
  {
   "cell_type": "code",
   "execution_count": 24,
   "metadata": {
    "collapsed": false,
    "jupyter": {
     "outputs_hidden": false
    }
   },
   "outputs": [],
   "source": [
    "class OLS:\n",
    "    def __init__(self, fit_intercept=True):\n",
    "        self.fit_intercept = fit_intercept\n",
    "        self.coeffs = None\n",
    "        self.intercept = None\n",
    "\n",
    "    def fit(self, X, y):\n",
    "        # Add intercept term to X if fit_intercept is True\n",
    "        if self.fit_intercept:\n",
    "            X = np.hstack([np.ones((X.shape[0], 1)), X])\n",
    "\n",
    "        # Solve the least squares problem\n",
    "        XTX = np.dot(X.T, X)\n",
    "        XTY = np.dot(X.T, y)\n",
    "        self.coeffs = np.linalg.solve(XTX, XTY)\n",
    "\n",
    "        # Extract intercept term if fit_intercept is True\n",
    "        if self.fit_intercept:\n",
    "            self.intercept = self.coeffs[0]\n",
    "            self.coeffs = self.coeffs[1:]\n",
    "\n",
    "    def predict(self, X):\n",
    "        # Add intercept term to X if fit_intercept is True\n",
    "        if self.fit_intercept:\n",
    "            X = np.hstack([np.ones((X.shape[0], 1)), X])\n",
    "            return np.dot(X, np.hstack([self.intercept, self.coeffs]))\n",
    "        return np.dot(X, self.coeffs)"
   ]
  },
  {
   "cell_type": "code",
   "execution_count": 25,
   "metadata": {
    "collapsed": false,
    "jupyter": {
     "outputs_hidden": false
    }
   },
   "outputs": [
    {
     "name": "stdout",
     "output_type": "stream",
     "text": [
      "The estimated coefficients are: [0.13]\n",
      "The estimated intercept is: 0.520\n"
     ]
    }
   ],
   "source": [
    "# Then we can use the class as follows:\n",
    "\n",
    "model = OLS(fit_intercept=has_intercept)\n",
    "model.fit(X, y)\n",
    "print(f'The estimated coefficients are: {model.coeffs.round(3)}')\n",
    "print(f'The estimated intercept is: {model.intercept:.3f}')"
   ]
  },
  {
   "cell_type": "code",
   "execution_count": 26,
   "metadata": {},
   "outputs": [
    {
     "data": {
      "text/plain": [
       "array([0.57072569, 0.57339494, 0.61389652, 0.62393349, 0.60082248,\n",
       "       0.59659774, 0.52291297, 0.56923288, 0.6308221 , 0.55740546,\n",
       "       0.58243349, 0.6094117 , 0.63413988, 0.57952038, 0.64657882,\n",
       "       0.64368007, 0.55295214, 0.59149691, 0.56695366, 0.60968134,\n",
       "       0.60986639, 0.6013391 , 0.5923298 , 0.62514016, 0.547273  ,\n",
       "       0.58178797, 0.54862332, 0.62716136, 0.58524635, 0.53050743,\n",
       "       0.54866112, 0.5465526 , 0.52213442, 0.64845224, 0.5200045 ,\n",
       "       0.5277985 , 0.61942143, 0.62431577, 0.61040954, 0.52144741,\n",
       "       0.54362731, 0.61781702, 0.54886729, 0.54719653, 0.61812397,\n",
       "       0.57403121, 0.55045758, 0.58496579, 0.58923181, 0.52366572,\n",
       "       0.52111315, 0.52747702, 0.64975194, 0.5739693 , 0.61598155,\n",
       "       0.624467  , 0.60674581, 0.53321   , 0.62438123, 0.58459797,\n",
       "       0.54802936, 0.53154964, 0.55306903, 0.57096223, 0.60401868,\n",
       "       0.55860751, 0.5289645 , 0.58078686, 0.56062624, 0.63048779,\n",
       "       0.55379795, 0.55665304, 0.64030071, 0.55480975, 0.54544182,\n",
       "       0.63575655, 0.62518309, 0.52973214, 0.57797826, 0.57498419,\n",
       "       0.60908095, 0.52512778, 0.55573555, 0.58872546, 0.6340193 ,\n",
       "       0.54218395, 0.57674263, 0.6055574 , 0.5719437 , 0.56012994,\n",
       "       0.5371972 , 0.54044987, 0.58197569, 0.56554029, 0.56038825,\n",
       "       0.63129382, 0.55060813, 0.61483995, 0.59420693, 0.58965628])"
      ]
     },
     "execution_count": 26,
     "metadata": {},
     "output_type": "execute_result"
    }
   ],
   "source": [
    "model.predict(X)"
   ]
  },
  {
   "cell_type": "code",
   "execution_count": 27,
   "metadata": {},
   "outputs": [
    {
     "name": "stdout",
     "output_type": "stream",
     "text": [
      "The estimated coefficients are: [0.13]\n",
      "The estimated intercept is: 0.52\n"
     ]
    }
   ],
   "source": [
    "# We can also use the scikit-learn package to estimate the coefficients\n",
    "import sklearn.linear_model as lm\n",
    "\n",
    "model_sk = lm.LinearRegression(fit_intercept=has_intercept)\n",
    "model_sk.fit(X, y)\n",
    "print(f'The estimated coefficients are: {model_sk.coef_.round(3)}')\n",
    "print(f'The estimated intercept is: {model_sk.intercept_.round(3)}')"
   ]
  },
  {
   "cell_type": "code",
   "execution_count": null,
   "metadata": {},
   "outputs": [],
   "source": []
  }
 ],
 "metadata": {
  "kernelspec": {
   "display_name": "py_313",
   "language": "python",
   "name": "python3"
  },
  "language_info": {
   "codemirror_mode": {
    "name": "ipython",
    "version": 3
   },
   "file_extension": ".py",
   "mimetype": "text/x-python",
   "name": "python",
   "nbconvert_exporter": "python",
   "pygments_lexer": "ipython3",
   "version": "3.13.2"
  }
 },
 "nbformat": 4,
 "nbformat_minor": 4
}
