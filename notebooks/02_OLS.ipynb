{
 "cells": [
  {
   "cell_type": "markdown",
   "metadata": {},
   "source": [
    "# Ordinary Least Squares (OLS) regression\n",
    "\n",
    "### Predictive modelling with machine learning\n",
    "\n",
    "#### Lecturer: Vegard H. Larsen"
   ]
  },
  {
   "cell_type": "markdown",
   "metadata": {},
   "source": [
    "### Start by generating some data"
   ]
  },
  {
   "cell_type": "code",
   "execution_count": 1,
   "metadata": {
    "collapsed": false,
    "jupyter": {
     "outputs_hidden": false
    }
   },
   "outputs": [],
   "source": [
    "import numpy as np\n",
    "import pandas as pd\n",
    "import matplotlib.pyplot as plt"
   ]
  },
  {
   "cell_type": "code",
   "execution_count": 24,
   "metadata": {
    "collapsed": false,
    "jupyter": {
     "outputs_hidden": false
    }
   },
   "outputs": [],
   "source": [
    "# Set the number of regressors or futures\n",
    "n_features = 5\n",
    "\n",
    "# Set the number of observations\n",
    "n_samples = 500\n",
    "\n",
    "# Set intercept to True/False\n",
    "has_intercept = True\n",
    "\n",
    "# Generate some random futures from a Uniform(0,1)\n",
    "X = np.random.rand(n_samples, n_features)\n",
    "\n",
    "# Generate the true coefficients, also from a Uniform(0,1)\n",
    "coeffs = np.random.rand(n_features).round(2)\n",
    "\n",
    "# The data generating process is y = intercept + sum_i coeff_i * x_i + 0.2*u_i\n",
    "# where u_i is normally distributed error term,  N(O,1).\n",
    "if has_intercept:\n",
    "    intercept = np.random.rand(1).round(2)[0]\n",
    "    y = intercept + np.dot(X, coeffs) + 0.2*np.random.randn(n_samples)\n",
    "    y_true = intercept + np.dot(X, coeffs)\n",
    "else:\n",
    "    intercept = 0\n",
    "    y = np.dot(X, coeffs) + 0.2*np.random.randn(n_samples)\n",
    "    y_true = np.dot(X, coeffs)"
   ]
  },
  {
   "cell_type": "code",
   "execution_count": 25,
   "metadata": {
    "collapsed": false,
    "jupyter": {
     "outputs_hidden": false
    }
   },
   "outputs": [
    {
     "name": "stdout",
     "output_type": "stream",
     "text": [
      "The true coefficients are/is: [0.76 0.25 0.4  0.98 0.05]\n",
      "The true intercept is: 0.17\n"
     ]
    }
   ],
   "source": [
    "print(f'The true coefficients are/is: {coeffs}')\n",
    "if has_intercept:\n",
    "    print(f'The true intercept is: {intercept}')"
   ]
  },
  {
   "cell_type": "code",
   "execution_count": 26,
   "metadata": {},
   "outputs": [
    {
     "name": "stdout",
     "output_type": "stream",
     "text": [
      "Can only plot a two-dimensional figure.\n"
     ]
    }
   ],
   "source": [
    "import matplotlib.pyplot as plt\n",
    "import numpy as np\n",
    "\n",
    "# Assuming n_features, X, y, y_true, intercept, coeffs are already defined\n",
    "if n_features == 1:\n",
    "    plt.scatter(X, y, label='Data')\n",
    "    plt.plot(X, y_true, color='red', label=f'DGP ($y={intercept} + {coeffs[0]}x$)')\n",
    "\n",
    "    # Randomly select 20 points\n",
    "    indices = np.random.choice(range(len(X)), 20, replace=False)\n",
    "    for i in indices:\n",
    "        # Draw line from point to regression line\n",
    "        plt.plot([X[i], X[i]], [y[i], y_true[i]], color='green', linestyle='--')\n",
    "\n",
    "    plt.legend()\n",
    "    plt.xlabel('$x$-value')\n",
    "    plt.ylabel('$y$-value')\n",
    "    plt.show()\n",
    "else:\n",
    "    print('Can only plot a two-dimensional figure.')\n"
   ]
  },
  {
   "cell_type": "markdown",
   "metadata": {},
   "source": [
    "The goal now is to recover the data generating process (DGP) by using the observed data, $X$."
   ]
  },
  {
   "cell_type": "markdown",
   "metadata": {},
   "source": [
    "### Basic OLS recap:\n",
    "\n",
    "The ordinary least squares (OLS) method is a linear regression technique that finds the coefficients (also called weights or parameters) that minimize the sum of the squared residuals between the predicted values and the true values. Mathematically, this can be written as the following optimization problem\n",
    "\n",
    "$$\\arg\\min_{\\beta} \\sum_{i=1}^n (y_i - \\beta^T x_i)^2$$\n",
    "\n",
    "where $x_i$ is the $i$-th feature vector, $y_i$ is the $i$-th target, $\\beta$ is the coefficient vector (also called the betas). The optimal values of $\\beta$ are the OLS coefficients.\n",
    "\n",
    "To solve this optimization problem, we can set the derivative of the objective function with respect to $\\beta$ to zero and solve for $\\beta$. This leads to the following closed-form solution for the OLS coefficients:\n",
    "\n",
    "$$\\beta = (X^T X)^{-1} X^T y$$\n",
    "\n",
    "where $X$ is the feature matrix with shape (n_samples, n_features), $y$ is the target vector with shape (n_samples).\n",
    "\n",
    "We can easily solve for $\\beta$ using NumPy:"
   ]
  },
  {
   "cell_type": "code",
   "execution_count": 27,
   "metadata": {
    "collapsed": false,
    "jupyter": {
     "outputs_hidden": false
    }
   },
   "outputs": [
    {
     "name": "stdout",
     "output_type": "stream",
     "text": [
      "The estimated coefficients are: [0.752 0.263 0.424 0.954 0.074]\n",
      "The estimated intercept is: 0.158\n"
     ]
    }
   ],
   "source": [
    "if has_intercept == True:\n",
    "    X_ = np.column_stack((np.ones(n_samples), X))    \n",
    "    betas = np.linalg.inv(X_.T@X_)@(X_.T@y)\n",
    "    print(f'The estimated coefficients are: { betas[1:].round(3)}')\n",
    "    print(f'The estimated intercept is: { betas[0].round(3)}')\n",
    "else:\n",
    "    betas = np.linalg.inv(X.T@X)@(X.T@y)\n",
    "    print(f'The estimated coefficients are: { betas.round(3)}')"
   ]
  },
  {
   "cell_type": "markdown",
   "metadata": {},
   "source": [
    "### Let's write a few more lines of code using OOP\n",
    "\n",
    "We will now use object-oriented programming (OOP) when coding up the ordinary least squares (OLS) method. This is the way every serious package in Python is written, and it is smart to start to think in this framework right away."
   ]
  },
  {
   "cell_type": "code",
   "execution_count": 29,
   "metadata": {
    "collapsed": false,
    "jupyter": {
     "outputs_hidden": false
    }
   },
   "outputs": [],
   "source": [
    "class OLS:\n",
    "    def __init__(self, fit_intercept=True):\n",
    "        self.fit_intercept = fit_intercept\n",
    "        self.coeffs = None\n",
    "        self.intercept = None\n",
    "\n",
    "    def fit(self, X, y):\n",
    "        # Add intercept term to X if fit_intercept is True\n",
    "        if self.fit_intercept:\n",
    "            X = np.hstack([np.ones((X.shape[0], 1)), X])\n",
    "\n",
    "        # Solve the least squares problem\n",
    "        XTX = np.dot(X.T, X)\n",
    "        XTY = np.dot(X.T, y)\n",
    "        self.coeffs = np.linalg.solve(XTX, XTY)\n",
    "\n",
    "        # Extract intercept term if fit_intercept is True\n",
    "        if self.fit_intercept:\n",
    "            self.intercept = self.coeffs[0]\n",
    "            self.coeffs = self.coeffs[1:]\n",
    "\n",
    "    def predict(self, X):\n",
    "        # Add intercept term to X if fit_intercept is True\n",
    "        if self.fit_intercept:\n",
    "            X = np.hstack([np.ones((X.shape[0], 1)), X])\n",
    "            return np.dot(X, np.hstack([self.intercept, self.coeffs]))\n",
    "        return np.dot(X, self.coeffs)"
   ]
  },
  {
   "cell_type": "code",
   "execution_count": 30,
   "metadata": {
    "collapsed": false,
    "jupyter": {
     "outputs_hidden": false
    }
   },
   "outputs": [
    {
     "name": "stdout",
     "output_type": "stream",
     "text": [
      "The estimated coefficients are: [0.752 0.263 0.424 0.954 0.074]\n",
      "The estimated intercept is: 0.158\n"
     ]
    }
   ],
   "source": [
    "# Then we can use the class as follows:\n",
    "\n",
    "model = OLS(fit_intercept=has_intercept)\n",
    "model.fit(X, y)\n",
    "print(f'The estimated coefficients are: {model.coeffs.round(3)}')\n",
    "print(f'The estimated intercept is: {model.intercept:.3f}')"
   ]
  },
  {
   "cell_type": "code",
   "execution_count": 31,
   "metadata": {},
   "outputs": [
    {
     "data": {
      "text/plain": [
       "array([1.50986499, 1.41496878, 1.95560593, 0.70710628, 1.50794276,\n",
       "       1.79879824, 1.28838213, 1.43491732, 1.1173543 , 0.49509858,\n",
       "       1.70015474, 0.97217535, 0.84252927, 0.81392321, 1.57375563,\n",
       "       0.96608714, 2.28524985, 1.77204352, 1.24697238, 1.93295777,\n",
       "       1.78070943, 1.18260154, 0.66644792, 0.60972765, 1.07514401,\n",
       "       1.47882826, 1.07709334, 0.7696624 , 1.62803019, 1.57586208,\n",
       "       1.40754879, 1.04128331, 1.63679766, 1.93942301, 2.11858664,\n",
       "       1.43130701, 2.25575821, 1.0420427 , 0.98005853, 1.08883435,\n",
       "       2.17344092, 1.33154168, 1.22443228, 2.20732431, 1.45261415,\n",
       "       1.00602689, 0.98929538, 0.9117072 , 0.7234552 , 2.18812572,\n",
       "       1.60126562, 1.42626924, 1.124881  , 0.75171672, 1.29622076,\n",
       "       1.51023559, 1.12375822, 1.39561499, 2.08740622, 1.22920843,\n",
       "       1.70415292, 1.55164512, 1.27234046, 1.63448005, 1.68136747,\n",
       "       0.80949989, 1.59961269, 1.35712603, 1.37061794, 1.15948704,\n",
       "       2.20993834, 1.7869483 , 1.92759639, 0.65919245, 1.66864946,\n",
       "       0.97859505, 1.21527655, 0.75586304, 1.16056059, 0.95550868,\n",
       "       1.51000328, 1.87395239, 1.51042838, 1.19104937, 1.28188193,\n",
       "       1.08661597, 1.66036445, 1.56934163, 0.61740695, 1.45152161,\n",
       "       1.26084377, 1.67532839, 1.26302554, 1.73039557, 1.37259696,\n",
       "       1.31696419, 1.25820807, 1.15286606, 1.85958384, 1.2320579 ,\n",
       "       1.07177693, 2.13672671, 1.2721918 , 1.87480242, 1.92391561,\n",
       "       1.4683429 , 1.44720389, 0.79550977, 1.98293373, 0.9509794 ,\n",
       "       1.30999441, 1.54330685, 1.7108512 , 0.93856709, 1.87583572,\n",
       "       0.86011291, 2.04751516, 1.50188772, 1.1685676 , 1.80587839,\n",
       "       1.33801046, 1.89622785, 1.54347418, 1.59528262, 1.29734279,\n",
       "       0.9877671 , 1.30570178, 1.94469262, 1.23676095, 1.04082542,\n",
       "       1.21254219, 1.55620503, 1.74322957, 1.49521796, 1.53147247,\n",
       "       1.12728113, 1.16591601, 1.40949416, 1.50481195, 1.03163202,\n",
       "       1.79683989, 0.59377806, 1.74665389, 1.33465432, 1.11530961,\n",
       "       1.19278868, 1.49102012, 2.11725003, 1.16377457, 0.68068033,\n",
       "       1.76845239, 1.66071338, 1.15752571, 1.48932749, 1.20973817,\n",
       "       0.77310207, 1.08524643, 1.34194153, 1.30510912, 1.25962043,\n",
       "       1.56573561, 1.76370864, 1.21938924, 1.92880467, 1.58434832,\n",
       "       1.24709786, 1.73889114, 1.22725834, 1.40094111, 1.27234469,\n",
       "       1.33010532, 1.28265051, 1.95352671, 1.43027686, 1.69399926,\n",
       "       1.68093455, 1.42625979, 1.51130738, 1.01811979, 0.65084181,\n",
       "       1.18434517, 1.86785929, 0.55632563, 1.56309656, 0.85110769,\n",
       "       1.19543862, 1.21912521, 0.99196259, 1.41985169, 1.59430274,\n",
       "       1.72710881, 1.33377325, 2.08068302, 1.14240778, 1.86046345,\n",
       "       1.46831705, 1.09342709, 1.61809485, 1.15045269, 1.15697951,\n",
       "       1.14689451, 1.64043582, 1.78357633, 1.42725224, 1.10300717,\n",
       "       1.2004015 , 1.23023038, 1.20541473, 1.72311282, 0.85491176,\n",
       "       0.92858594, 1.32555905, 2.1945609 , 1.37498153, 2.05958536,\n",
       "       1.5649067 , 1.49756082, 1.63838916, 1.42448189, 2.10037485,\n",
       "       1.3479763 , 1.48869144, 1.08331061, 1.74041208, 0.93137274,\n",
       "       1.53176215, 1.22610205, 1.14967141, 1.24777989, 0.73482438,\n",
       "       0.95606383, 1.72345234, 1.72748776, 1.73693456, 1.65158523,\n",
       "       1.35851962, 1.41011925, 1.20715891, 1.00004754, 1.3525658 ,\n",
       "       1.25048582, 1.0525709 , 1.34467687, 1.56639878, 1.1115749 ,\n",
       "       1.64912566, 1.42680308, 1.03254006, 0.79546709, 1.349411  ,\n",
       "       1.1271391 , 1.2280279 , 1.05199518, 1.43556909, 1.22569005,\n",
       "       1.98997741, 1.67673997, 1.81631816, 1.30791047, 1.34161507,\n",
       "       1.78512033, 0.81819051, 1.08697098, 1.83794491, 1.29366049,\n",
       "       0.71451366, 1.27397693, 2.13412346, 1.24991133, 0.85282124,\n",
       "       1.12269339, 1.54089385, 1.69503916, 1.47598186, 1.22708138,\n",
       "       2.20355987, 1.15313432, 2.00029387, 1.76452469, 1.51422991,\n",
       "       0.9070435 , 1.67071698, 1.72031676, 1.38862237, 1.10051969,\n",
       "       1.11161165, 1.22935352, 1.80417268, 0.84262755, 0.92752778,\n",
       "       1.12344794, 0.95986734, 1.41013182, 1.34349361, 1.53431011,\n",
       "       1.44833951, 0.86125158, 2.13263549, 1.53355923, 1.77233166,\n",
       "       0.51719777, 1.16789038, 1.46304898, 1.56278334, 1.68124934,\n",
       "       2.05124954, 2.02405628, 1.36789979, 1.47617421, 1.40575328,\n",
       "       1.69376198, 0.71429892, 1.49967523, 1.49363617, 1.88631878,\n",
       "       1.12146761, 1.11452877, 1.33608943, 1.55574596, 1.92801084,\n",
       "       0.76907082, 1.37706721, 1.32959215, 1.09705697, 1.32729676,\n",
       "       1.58933956, 1.25812719, 1.17200523, 0.86402374, 1.0682232 ,\n",
       "       2.20760674, 0.75823008, 1.4841963 , 0.67876158, 0.71157043,\n",
       "       1.01115479, 2.0435095 , 0.93757645, 1.75744144, 1.6075649 ,\n",
       "       1.12978418, 1.33492553, 1.84275581, 1.34054869, 1.31615758,\n",
       "       1.52273275, 0.94359734, 1.89445206, 1.05938176, 1.57672999,\n",
       "       1.81340382, 1.22863048, 1.34436934, 1.4451104 , 1.46976765,\n",
       "       1.30012429, 1.35891896, 0.83127172, 1.76052787, 1.22448188,\n",
       "       1.62521002, 1.93908364, 1.94046201, 1.2250768 , 1.12204096,\n",
       "       2.00753299, 1.28904293, 1.14414005, 1.78578828, 1.13307429,\n",
       "       1.48402492, 1.33801669, 1.36086382, 2.00772069, 1.3498507 ,\n",
       "       1.24147873, 1.51991474, 1.33957359, 1.33318855, 1.29685854,\n",
       "       0.9687689 , 1.56560062, 1.69412827, 1.47738756, 1.84488289,\n",
       "       1.3927339 , 1.02669035, 1.16534231, 0.55348422, 1.63966466,\n",
       "       1.51548552, 1.16434712, 1.49207203, 0.70536707, 1.53347597,\n",
       "       1.18033211, 1.75454005, 2.0075544 , 1.76457539, 1.28108716,\n",
       "       1.19713724, 1.01189657, 1.387463  , 1.79717459, 1.3194238 ,\n",
       "       1.8481502 , 1.62594686, 2.06365225, 1.54786486, 1.37892273,\n",
       "       1.50302662, 1.57353365, 1.16553786, 1.59296687, 1.40708251,\n",
       "       1.29728278, 1.16585662, 1.22670342, 1.4517321 , 1.50582076,\n",
       "       1.32063335, 1.65484138, 1.05112142, 1.33371779, 1.9109972 ,\n",
       "       1.22504342, 1.80709516, 0.98984063, 2.21441754, 1.1624558 ,\n",
       "       1.76570191, 2.1952001 , 1.07077125, 1.93993081, 1.96355556,\n",
       "       1.86268978, 1.372673  , 1.58612193, 1.52512223, 1.64781697,\n",
       "       2.31977605, 0.97042868, 1.36940442, 1.78732222, 1.38480691,\n",
       "       1.52954912, 1.02937282, 1.69119358, 1.97393642, 1.1861499 ,\n",
       "       0.90306487, 1.33403272, 1.52972111, 0.94345608, 1.91724587,\n",
       "       1.73521528, 1.33773379, 1.53202516, 1.17947378, 0.9511539 ,\n",
       "       1.11903194, 1.19080477, 1.14615976, 0.58206493, 0.82979342,\n",
       "       1.27072001, 1.49890859, 2.03556072, 1.32961701, 1.57706682,\n",
       "       1.76540897, 0.89465144, 1.67338362, 1.34562976, 2.24079223,\n",
       "       1.11540137, 0.79244673, 1.81303523, 0.64603894, 1.02161046,\n",
       "       0.93327566, 0.99136108, 1.3302847 , 1.20541427, 1.49596297,\n",
       "       1.30167371, 0.94853904, 1.47242204, 1.65509148, 1.9310352 ,\n",
       "       1.14121225, 1.28325809, 1.59825096, 1.25671963, 1.1644541 ,\n",
       "       1.24294116, 1.36161153, 0.97316167, 1.27016681, 1.18480669])"
      ]
     },
     "execution_count": 31,
     "metadata": {},
     "output_type": "execute_result"
    }
   ],
   "source": [
    "model.predict(X)"
   ]
  },
  {
   "cell_type": "code",
   "execution_count": 32,
   "metadata": {},
   "outputs": [
    {
     "name": "stdout",
     "output_type": "stream",
     "text": [
      "The estimated coefficients are: [0.752 0.263 0.424 0.954 0.074]\n",
      "The estimated intercept is: 0.158\n"
     ]
    }
   ],
   "source": [
    "# We can also use the scikit-learn package to estimate the coefficients\n",
    "import sklearn.linear_model as lm\n",
    "\n",
    "model_sk = lm.LinearRegression(fit_intercept=has_intercept)\n",
    "model_sk.fit(X, y)\n",
    "print(f'The estimated coefficients are: {model_sk.coef_.round(3)}')\n",
    "print(f'The estimated intercept is: {model_sk.intercept_.round(3)}')"
   ]
  },
  {
   "cell_type": "code",
   "execution_count": null,
   "metadata": {},
   "outputs": [],
   "source": []
  }
 ],
 "metadata": {
  "kernelspec": {
   "display_name": "Python 3 (ipykernel)",
   "language": "python",
   "name": "python3"
  },
  "language_info": {
   "codemirror_mode": {
    "name": "ipython",
    "version": 3
   },
   "file_extension": ".py",
   "mimetype": "text/x-python",
   "name": "python",
   "nbconvert_exporter": "python",
   "pygments_lexer": "ipython3",
   "version": "3.10.6"
  }
 },
 "nbformat": 4,
 "nbformat_minor": 4
}
