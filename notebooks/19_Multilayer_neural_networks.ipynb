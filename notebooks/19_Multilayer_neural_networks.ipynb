{
 "cells": [
  {
   "cell_type": "markdown",
   "metadata": {},
   "source": [
    "# Multilayer neural networks\n",
    "\n",
    "## Lecture 10\n",
    "\n",
    "### GRA 4160\n",
    "### Predictive modelling with machine learning\n",
    "\n",
    "#### Lecturer: Vegard H. Larsen"
   ]
  },
  {
   "cell_type": "code",
   "execution_count": 2,
   "metadata": {
    "collapsed": false,
    "jupyter": {
     "outputs_hidden": false
    }
   },
   "outputs": [],
   "source": [
    "import tensorflow as tf\n",
    "import numpy as np\n",
    "from tensorflow.keras import layers, models\n",
    "from tensorflow.keras.datasets import mnist\n",
    "from tensorflow.keras.utils import to_categorical"
   ]
  },
  {
   "cell_type": "code",
   "execution_count": 3,
   "metadata": {
    "collapsed": false,
    "jupyter": {
     "outputs_hidden": false
    }
   },
   "outputs": [
    {
     "data": {
      "image/png": "[encoded data removed]",
      "text/plain": [
       "<Figure size 1500x300 with 10 Axes>"
      ]
     },
     "metadata": {},
     "output_type": "display_data"
    }
   ],
   "source": [
    "import matplotlib.pyplot as plt\n",
    "\n",
    "# Load the MNIST dataset\n",
    "(train_images, train_labels), (test_images, test_labels) = mnist.load_data()\n",
    "\n",
    "# Preprocess the data\n",
    "train_images = train_images.astype('float32') / 255.0\n",
    "test_images = test_images.astype('float32') / 255.0\n",
    "\n",
    "# Display 10 random example images\n",
    "num_images = 10\n",
    "random_indices = np.random.choice(len(train_images), num_images)\n",
    "plt.figure(figsize=(15, 3))\n",
    "\n",
    "for i, idx in enumerate(random_indices):\n",
    "    plt.subplot(1, num_images, i+1)\n",
    "    plt.imshow(train_images[idx], cmap='gray')\n",
    "    plt.title(train_labels[idx])\n",
    "\n",
    "plt.show()"
   ]
  },
  {
   "cell_type": "code",
   "execution_count": 4,
   "metadata": {
    "collapsed": false,
    "jupyter": {
     "outputs_hidden": false
    }
   },
   "outputs": [
    {
     "name": "stdout",
     "output_type": "stream",
     "text": [
      "(60000, 28, 28)\n"
     ]
    }
   ],
   "source": [
    "# Load and preprocess the data\n",
    "(x_train, y_train), (x_test, y_test) = mnist.load_data()\n",
    "print(np.shape(x_train))"
   ]
  },
  {
   "cell_type": "code",
   "execution_count": null,
   "metadata": {},
   "outputs": [],
   "source": []
  },
  {
   "cell_type": "code",
   "execution_count": 17,
   "metadata": {
    "collapsed": false,
    "jupyter": {
     "outputs_hidden": false
    }
   },
   "outputs": [],
   "source": [
    "# Let´ reshape the data\n",
    "\n",
    "# This line reshapes the training dataset x_train from its original shape of (60000, 28, 28) to a new shape of (60000, 784).\n",
    "# The original shape represents 60,000 images, each of size 28x28 pixels.\n",
    "# The new shape flattens each image into a one-dimensional array of 784 elements (28 * 28).\n",
    "# This is done because the neural network expects a one-dimensional input for each sample.\n",
    "x_train = x_train.reshape((60000, 28 * 28))\n",
    "x_train = x_train.astype(\"float32\") / 255\n",
    "\n",
    "# This line first converts the data type of x_train to float32.\n",
    "# Then, it divides each element by 255.\n",
    "# The purpose of this operation is to normalize the pixel values, which originally range from 0 (black) to 255 (white), to a range between 0 and 1.\n",
    "# Normalizing the input data usually helps the neural network learn more effectively and converge faster.\n",
    "x_test = x_test.reshape((10000, 28 * 28))\n",
    "x_test = x_test.astype(\"float32\") / 255"
   ]
  },
  {
   "cell_type": "code",
   "execution_count": null,
   "metadata": {},
   "outputs": [],
   "source": []
  },
  {
   "cell_type": "code",
   "execution_count": 18,
   "metadata": {
    "collapsed": false,
    "jupyter": {
     "outputs_hidden": false
    }
   },
   "outputs": [
    {
     "data": {
      "text/plain": [
       "array([5, 0, 4, ..., 5, 6, 8], dtype=uint8)"
      ]
     },
     "execution_count": 18,
     "metadata": {},
     "output_type": "execute_result"
    }
   ],
   "source": [
    "# Let's look at the output data\n",
    "\n",
    "y_train"
   ]
  },
  {
   "cell_type": "code",
   "execution_count": 19,
   "metadata": {
    "collapsed": false,
    "jupyter": {
     "outputs_hidden": false
    }
   },
   "outputs": [],
   "source": [
    "# Convert the labels to categorical one-hot encoding\n",
    "y_train = to_categorical(y_train)\n",
    "y_test = to_categorical(y_test)"
   ]
  },
  {
   "cell_type": "code",
   "execution_count": 20,
   "metadata": {
    "collapsed": false,
    "jupyter": {
     "outputs_hidden": false
    }
   },
   "outputs": [
    {
     "data": {
      "text/plain": [
       "array([[0., 0., 0., ..., 0., 0., 0.],\n",
       "       [1., 0., 0., ..., 0., 0., 0.],\n",
       "       [0., 0., 0., ..., 0., 0., 0.],\n",
       "       ...,\n",
       "       [0., 0., 0., ..., 0., 0., 0.],\n",
       "       [0., 0., 0., ..., 0., 0., 0.],\n",
       "       [0., 0., 0., ..., 0., 1., 0.]], dtype=float32)"
      ]
     },
     "execution_count": 20,
     "metadata": {},
     "output_type": "execute_result"
    }
   ],
   "source": [
    "y_train"
   ]
  },
  {
   "cell_type": "code",
   "execution_count": 21,
   "metadata": {
    "collapsed": false,
    "jupyter": {
     "outputs_hidden": false
    }
   },
   "outputs": [],
   "source": [
    "# We then create a multilayer neural network with two hidden layers.\n",
    "# The first hidden layer has 128 neurons and a ReLU activation function, while the second hidden layer has 64 neurons and a ReLU activation function.\n",
    "# The output layer has 10 neurons with a softmax activation function, corresponding to the 10 possible digit classes (0-9).\n",
    "\n",
    "model = models.Sequential()\n",
    "model.add(layers.Dense(128, activation=\"relu\", input_shape=(28 * 28,)))\n",
    "model.add(layers.Dense(64, activation=\"relu\"))\n",
    "model.add(layers.Dense(10, activation=\"softmax\"))"
   ]
  },
  {
   "cell_type": "code",
   "execution_count": 22,
   "metadata": {
    "collapsed": false,
    "jupyter": {
     "outputs_hidden": false
    }
   },
   "outputs": [
    {
     "name": "stdout",
     "output_type": "stream",
     "text": [
      "Epoch 1/10\n",
      "375/375 [==============================] - 1s 1ms/step - loss: 1.5189 - accuracy: 0.5969 - val_loss: 0.8013 - val_accuracy: 0.8219\n",
      "Epoch 2/10\n",
      "375/375 [==============================] - 1s 1ms/step - loss: 0.6271 - accuracy: 0.8461 - val_loss: 0.4699 - val_accuracy: 0.8798\n",
      "Epoch 3/10\n",
      "375/375 [==============================] - 1s 1ms/step - loss: 0.4465 - accuracy: 0.8819 - val_loss: 0.3811 - val_accuracy: 0.8965\n",
      "Epoch 4/10\n",
      "375/375 [==============================] - 1s 2ms/step - loss: 0.3810 - accuracy: 0.8954 - val_loss: 0.3393 - val_accuracy: 0.9042\n",
      "Epoch 5/10\n",
      "375/375 [==============================] - 1s 2ms/step - loss: 0.3446 - accuracy: 0.9028 - val_loss: 0.3125 - val_accuracy: 0.9107\n",
      "Epoch 6/10\n",
      "375/375 [==============================] - 1s 1ms/step - loss: 0.3199 - accuracy: 0.9093 - val_loss: 0.2959 - val_accuracy: 0.9154\n",
      "Epoch 7/10\n",
      "375/375 [==============================] - 1s 1ms/step - loss: 0.3009 - accuracy: 0.9139 - val_loss: 0.2793 - val_accuracy: 0.9212\n",
      "Epoch 8/10\n",
      "375/375 [==============================] - 1s 1ms/step - loss: 0.2851 - accuracy: 0.9186 - val_loss: 0.2669 - val_accuracy: 0.9246\n",
      "Epoch 9/10\n",
      "375/375 [==============================] - 1s 1ms/step - loss: 0.2719 - accuracy: 0.9221 - val_loss: 0.2557 - val_accuracy: 0.9273\n",
      "Epoch 10/10\n",
      "375/375 [==============================] - 1s 1ms/step - loss: 0.2599 - accuracy: 0.9260 - val_loss: 0.2466 - val_accuracy: 0.9297\n",
      "313/313 [==============================] - 0s 487us/step - loss: 0.2448 - accuracy: 0.9309\n",
      "Test accuracy: 0.930899977684021\n"
     ]
    }
   ],
   "source": [
    "# Compile the model\n",
    "model.compile(optimizer=\"sgd\", loss=\"categorical_crossentropy\", metrics=[\"accuracy\"])\n",
    "\n",
    "# Train the model\n",
    "history = model.fit(x_train, y_train, epochs=10, batch_size=128, validation_split=0.2)\n",
    "\n",
    "# Evaluate the model on the test data\n",
    "test_loss, test_acc = model.evaluate(x_test, y_test)\n",
    "\n",
    "print(\"Test accuracy:\", test_acc)"
   ]
  },
  {
   "cell_type": "markdown",
   "metadata": {},
   "source": [
    "## Adaptive moment estimation (adam) optimizer\n",
    "\n",
    "Adam is an adaptive optimization algorithm that combines the ideas of two other optimization algorithms: Adaptive Gradient Algorithm (AdaGrad) and Root Mean Square Propagation (RMSProp).\n",
    "It computes adaptive learning rates for each weight based on the first moment (mean) and the second moment (variance) of the gradients.\n",
    "\n",
    "Adam maintains exponential moving averages of the gradients and the squared gradients, denoted by $m_t$ and $v_t$, respectively.\n",
    "The weight update in Adam can be described as:\n",
    "\n",
    "$$w_{t+1} = w_{t} - \\frac{\\nu \\cdot m_t}{\\sqrt(v_t) + \\epsilon}$$\n",
    "\n",
    "where $w_t$ represents the weights at time $t$, the learning rate, $\\nu$, is a hyperparameter that controls the initial step size of the updates, $m_t$ and $v_t$ are the exponential moving averages of the gradients and squared gradients, and $\\epsilon$ is a small constant to prevent division by zero.\n",
    "\n",
    "Adam automatically adjusts the learning rate for each weight during training, making it more robust and effective in handling complex optimization landscapes.\n",
    "It usually converges faster than SGD and is less sensitive to the initial learning rate.\n",
    "\n",
    "In practice, Adam is often the preferred choice due to its adaptive nature and faster convergence.\n",
    "However, it's essential to experiment with different optimizers and hyperparameters to find the best configuration for a specific problem."
   ]
  },
  {
   "cell_type": "code",
   "execution_count": 23,
   "metadata": {
    "collapsed": false,
    "jupyter": {
     "outputs_hidden": false
    }
   },
   "outputs": [
    {
     "name": "stdout",
     "output_type": "stream",
     "text": [
      "Epoch 1/10\n",
      "375/375 [==============================] - 1s 2ms/step - loss: 0.1978 - accuracy: 0.9423 - val_loss: 0.1425 - val_accuracy: 0.9582\n",
      "Epoch 2/10\n",
      "375/375 [==============================] - 1s 2ms/step - loss: 0.1155 - accuracy: 0.9663 - val_loss: 0.1139 - val_accuracy: 0.9657\n",
      "Epoch 3/10\n",
      "375/375 [==============================] - 1s 1ms/step - loss: 0.0798 - accuracy: 0.9773 - val_loss: 0.1058 - val_accuracy: 0.9698\n",
      "Epoch 4/10\n",
      "375/375 [==============================] - 1s 2ms/step - loss: 0.0616 - accuracy: 0.9819 - val_loss: 0.0931 - val_accuracy: 0.9723\n",
      "Epoch 5/10\n",
      "375/375 [==============================] - 1s 2ms/step - loss: 0.0445 - accuracy: 0.9863 - val_loss: 0.1014 - val_accuracy: 0.9707\n",
      "Epoch 6/10\n",
      "375/375 [==============================] - 1s 2ms/step - loss: 0.0386 - accuracy: 0.9885 - val_loss: 0.0925 - val_accuracy: 0.9741\n",
      "Epoch 7/10\n",
      "375/375 [==============================] - 1s 2ms/step - loss: 0.0293 - accuracy: 0.9910 - val_loss: 0.0889 - val_accuracy: 0.9755\n",
      "Epoch 8/10\n",
      "375/375 [==============================] - 1s 2ms/step - loss: 0.0232 - accuracy: 0.9935 - val_loss: 0.0967 - val_accuracy: 0.9746\n",
      "Epoch 9/10\n",
      "375/375 [==============================] - 1s 2ms/step - loss: 0.0179 - accuracy: 0.9951 - val_loss: 0.0938 - val_accuracy: 0.9756\n",
      "Epoch 10/10\n",
      "375/375 [==============================] - 1s 2ms/step - loss: 0.0149 - accuracy: 0.9955 - val_loss: 0.0991 - val_accuracy: 0.9758\n",
      "313/313 [==============================] - 0s 470us/step - loss: 0.0804 - accuracy: 0.9788\n",
      "Test accuracy: 0.9787999987602234\n"
     ]
    }
   ],
   "source": [
    "# Compile the model\n",
    "model.compile(optimizer=\"adam\", loss=\"categorical_crossentropy\", metrics=[\"accuracy\"])\n",
    "\n",
    "# Train the model\n",
    "history = model.fit(x_train, y_train, epochs=10, batch_size=128, validation_split=0.2)\n",
    "\n",
    "# Evaluate the model on the test data\n",
    "test_loss, test_acc = model.evaluate(x_test, y_test)\n",
    "\n",
    "print(\"Test accuracy:\", test_acc)"
   ]
  }
 ],
 "metadata": {
  "kernelspec": {
   "display_name": "Python 3 (ipykernel)",
   "language": "python",
   "name": "python3"
  },
  "language_info": {
   "codemirror_mode": {
    "name": "ipython",
    "version": 3
   },
   "file_extension": ".py",
   "mimetype": "text/x-python",
   "name": "python",
   "nbconvert_exporter": "python",
   "pygments_lexer": "ipython3",
   "version": "3.10.6"
  }
 },
 "nbformat": 4,
 "nbformat_minor": 4
}
