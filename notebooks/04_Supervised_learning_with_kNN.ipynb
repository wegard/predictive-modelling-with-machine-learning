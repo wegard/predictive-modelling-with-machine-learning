{
 "cells": [
  {
   "cell_type": "markdown",
   "metadata": {},
   "source": [
    "# Supervised Learning with $k$-NN\n",
    "\n",
    "## Lecture 2\n",
    "\n",
    "### GRA 4160\n",
    "### Advanced Regression and Classification Analysis, Ensemble Methods And Neural Networks\n",
    "\n",
    "#### Lecturer: Vegard H. Larsen"
   ]
  },
  {
   "cell_type": "markdown",
   "metadata": {},
   "source": [
    "## Definition of supervised learning\n",
    "\n",
    "Supervised learning is a type of machine learning in which a model is trained on labeled data. This means that the data used to train the model includes both input data and corresponding correct output labels. The goal of supervised learning is to use the labeled training data to learn the relationship between the input and output data, and then make predictions on new, unseen data.\n",
    "\n",
    "During the training phase, the model is presented with the input data and the corresponding correct output labels. The model makes predictions based on the input data, and then compares its predictions to the correct labels to determine how accurate they are. The model is then adjusted, or \"trained\", based on the error between its predictions and the correct labels. This process is repeated multiple times, using different portions of the training data or different combinations of training and validation data, until the model reaches a satisfactory level of accuracy. Once the model is trained, it can be used to make predictions on new, unseen data."
   ]
  },
  {
   "cell_type": "markdown",
   "metadata": {},
   "source": [
    "## Examples of supervised learning problems\n",
    "\n",
    "1. **Classification**: The goal is to predict a discrete class label (e.g., \"spam\" or \"not spam\" for an email classification problem).\n",
    "2. **Regression**: The goal is to predict a continuous numerical value (e.g., the price of a house based on its characteristics).\n",
    "3. **Forecasting**: The goal is to predict future values of a given time series (e.g., stock prices or weather data).\n",
    "4. **Object recognition**: The goal is to classify objects in images or videos based on their characteristics.\n",
    "5. **Speech recognition**: The goal is to transcribe spoken language into written text."
   ]
  },
  {
   "cell_type": "markdown",
   "metadata": {},
   "source": [
    "## Classification with $k$-nearest neighbors\n",
    "\n",
    "The k-nearest neighbors ($k$-NN) algorithm is a simple and widely used machine learning technique for classification. The basic idea is to find the $k$ training examples that are closest (i.e., most similar) to a given test point, and then assign the label or value of the majority of those $k$ examples to the test point.\n",
    "\n",
    "The most common way to measure the similarity between two points is to use the Euclidean distance, which is defined as the square root of the sum of the squared differences of their coordinates:\n",
    "\n",
    "$$d(x,y) = \\sqrt{(x_1 - y_1)^2 + (x_2 - y_2)^2 + ... + (x_n - y_n)^2}$$\n",
    "\n",
    "where $x$ and $y$ are two points in $n$-dimensional space, and $x_i$ and $y_i$ are the $i$-th coordinates of $x$ and $y$.\n",
    "\n",
    "In a $k$-NN classification problem, given a test point $x$ and a set of training points with labels, the $k$-NN algorithm works as follows:\n",
    "\n",
    "1. For each training point, calculate the distance between it and $x$.\n",
    "2. Sort the training points by increasing distance to $x$.\n",
    "3. Select the $k$ training points that are closest to $x$.\n",
    "4. Assign the label of the majority of the $k$ selected points to $x$.\n",
    "\n",
    "This simple algorithm can be very effective for some types of problems, especially if the decision boundary between classes is relatively smooth and regular. However, it can be sensitive to the choice of $k$ and the presence of noisy or irrelevant features in the data.\n",
    "\n",
    "Let's use $k$-nearest neighbors on the iris datataset."
   ]
  },
  {
   "cell_type": "code",
   "execution_count": null,
   "metadata": {
    "collapsed": false,
    "jupyter": {
     "outputs_hidden": false
    }
   },
   "outputs": [],
   "source": [
    "from sklearn import datasets\n",
    "from sklearn.model_selection import train_test_split\n",
    "\n",
    "\n",
    "# Load the iris dataset\n",
    "iris = datasets.load_iris()\n",
    "X = iris.data\n",
    "y = iris.target\n",
    "\n",
    "# Split the data into training and test sets\n",
    "X_train, X_test, y_train, y_test = train_test_split(X, y, test_size=0.2, random_state=42)"
   ]
  },
  {
   "cell_type": "markdown",
   "metadata": {},
   "source": [
    "### $k$-NN from scratch\n",
    "\n",
    "We define two helper functions: `euclidean_distance` which calculates the euclidean distance between two points, and `predict_label` which finds the most common label among the k nearest neighbors of a test point in the training set. Finally, we test the classifier on the first test point with $k = 3$, and compare the predicted label to the true label."
   ]
  },
  {
   "cell_type": "code",
   "execution_count": 14,
   "metadata": {
    "collapsed": false,
    "jupyter": {
     "outputs_hidden": false
    }
   },
   "outputs": [
    {
     "name": "stdout",
     "output_type": "stream",
     "text": [
      "True label: 1\n",
      "Predicted label: 1\n"
     ]
    }
   ],
   "source": [
    "import numpy as np\n",
    "\n",
    "def euclidean_distance(x, y):\n",
    "    \"\"\"Calculate the euclidean distance between two points\"\"\"\n",
    "    return np.sqrt(np.sum((x - y)**2))\n",
    "\n",
    "def predict(X_train, y_train, x_test, k):\n",
    "    \"\"\"Find the k nearest neighbors of x_test in X_train\"\"\"\n",
    "    distances = [euclidean_distance(x_test, x) for x in X_train]\n",
    "    k_nearest = np.argsort(distances)[:k]\n",
    "    return y_train[k_nearest]\n",
    "\n",
    "def predict_label(X_train, y_train, x_test, k):\n",
    "    \"\"\"Find the most common label among the k nearest neighbors of x_test in X_train\"\"\"\n",
    "    return np.bincount(predict(X_train, y_train, x_test, k)).argmax()\n",
    "\n",
    "# Test the classifier on the first test point with k = 3\n",
    "x_test = X_test[0]\n",
    "print(\"True label:\", y_test[0])\n",
    "print(\"Predicted label:\", predict_label(X_train, y_train, x_test, 3))"
   ]
  },
  {
   "cell_type": "markdown",
   "metadata": {},
   "source": []
  },
  {
   "cell_type": "code",
   "execution_count": 15,
   "metadata": {
    "collapsed": false,
    "jupyter": {
     "outputs_hidden": false
    }
   },
   "outputs": [
    {
     "name": "stdout",
     "output_type": "stream",
     "text": [
      "Accuracy: 100.0%\n"
     ]
    }
   ],
   "source": [
    "# Make predictions on the whole test set\n",
    "y_pred = [predict_label(X_train, y_train, x, 3) for x in X_test]\n",
    "\n",
    "# Calculate the accuracy\n",
    "accuracy = np.mean(y_pred == y_test)\n",
    "\n",
    "# Print the accuracy\n",
    "print(f\"Accuracy: {accuracy * 100}%\")"
   ]
  },
  {
   "cell_type": "markdown",
   "metadata": {},
   "source": [
    "### Using scikit-learn\n",
    "\n",
    "We create a k-NN classifier with 3 neighbors and fit it to the training data using the `.fit()` method. We make predictions on the test data using the `.predict()` method, and print the accuracy of the classifier by comparing the predicted labels to the true labels."
   ]
  },
  {
   "cell_type": "code",
   "execution_count": 16,
   "metadata": {
    "collapsed": false,
    "jupyter": {
     "outputs_hidden": false
    }
   },
   "outputs": [
    {
     "name": "stdout",
     "output_type": "stream",
     "text": [
      "Accuracy: 100.0%\n"
     ]
    }
   ],
   "source": [
    "from sklearn.neighbors import KNeighborsClassifier\n",
    "\n",
    "# Create a k-NN classifier with 3 neighbors\n",
    "knn = KNeighborsClassifier(n_neighbors=3)\n",
    "\n",
    "# Fit the classifier to the training data\n",
    "knn.fit(X_train, y_train)\n",
    "\n",
    "# Make predictions on the test data\n",
    "y_pred = knn.predict(X_test)\n",
    "\n",
    "# Print the accuracy of the classifier\n",
    "print(f\"Accuracy: {knn.score(X_test, y_test) * 100}%\")"
   ]
  },
  {
   "cell_type": "code",
   "execution_count": null,
   "metadata": {},
   "outputs": [],
   "source": []
  }
 ],
 "metadata": {
  "kernelspec": {
   "display_name": "Python 3 (ipykernel)",
   "language": "python",
   "name": "python3"
  },
  "language_info": {
   "codemirror_mode": {
    "name": "ipython",
    "version": 3
   },
   "file_extension": ".py",
   "mimetype": "text/x-python",
   "name": "python",
   "nbconvert_exporter": "python",
   "pygments_lexer": "ipython3",
   "version": "3.10.8"
  }
 },
 "nbformat": 4,
 "nbformat_minor": 4
}
