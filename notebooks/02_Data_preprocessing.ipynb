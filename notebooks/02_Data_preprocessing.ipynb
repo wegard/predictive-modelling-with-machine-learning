{
 "cells": [
  {
   "cell_type": "markdown",
   "metadata": {},
   "source": [
    "# Data preprocessing\n",
    "\n",
    "## Lecture 1\n",
    "\n",
    "### GRA 4160\n",
    "### Predictive modelling with machine learning\n",
    "\n",
    "#### Lecturer: Vegard H. Larsen"
   ]
  },
  {
   "cell_type": "markdown",
   "metadata": {},
   "source": [
    "Data preprocessing is an important step in the machine learning process. It involves cleaning and formatting the data in a way that allows a model to learn from it effectively. This can include tasks such as removing missing or incorrect data, scaling the data to a consistent range, and encoding categorical variables. Here are some topics we will talk about throughout this course related to preprocessing of data:\n",
    "\n",
    "1. **Data cleaning**: Data cleaning involves identifying and correcting or removing errors or inconsistencies in the data. This can include handling missing values, removing duplicate records, and correcting errors in the data.\n",
    "2. **Feature selection**: Feature selection involves selecting the most relevant and meaningful features to include in the model. This can help improve the performance of the model and reduce the risk of overfitting.\n",
    "3. **Feature engineering**: Feature engineering involves creating new features from existing data, or transforming existing features to make them more suitable for the model. This can include techniques such as normalization, standardization, and scaling.\n",
    "4. **Data splitting**: Data splitting involves dividing the data into separate sets for training, validation, and testing. This is important to ensure that the model is evaluated on unseen data, and to prevent overfitting.\n",
    "5. **Data transformation**: Data transformation involves applying transformations to the data in order to make it more suitable for the model. This can include techniques such as encoding categorical variables, scaling numerical variables, and applying dimensionality reduction techniques."
   ]
  },
  {
   "cell_type": "markdown",
   "metadata": {},
   "source": [
    "## Data cleaning\n",
    "\n",
    "Data cleaning is an important step in the machine learning process, as it helps to ensure that the data is accurate, consistent, and ready for analysis. You should learn about the different types of data cleaning techniques and when to use them. Some common data cleaning techniques include:\n",
    "\n",
    "1. **Handling missing values**: Missing values can occur in a dataset for a variety of reasons, such as data entry errors or missing responses to survey questions. You should learn how to identify missing values and how to handle them, such as by imputing missing values using statistical techniques or by dropping rows or columns with too many missing values.\n",
    "2. **Handling outliers**: Outliers are data points that are significantly different from the rest of the data. You should learn how to identify and handle outliers, as they can have a significant impact on the results of a machine learning model. Outliers can be handled by dropping them, transforming them, or treating them as missing values.\n",
    "3. **Handling errors**: Data errors can occur due to typos, data entry mistakes, or formatting issues. You should learn how to identify and fix errors in the data.\n",
    "\n",
    "Overall, data cleaning is a critical step in the machine learning process, and you should be familiar with a variety of techniques for handling missing values, outliers, and errors in the data. By investing time in data cleaning, you can ensure that the machine learning models are based on high-quality data and are more likely to produce accurate and reliable results.\n",
    "\n",
    "Here are a few example of data cleaning using pandas:"
   ]
  },
  {
   "cell_type": "code",
   "execution_count": 1,
   "metadata": {
    "collapsed": false,
    "jupyter": {
     "outputs_hidden": false
    }
   },
   "outputs": [
    {
     "data": {
      "text/html": [
       "<div>\n",
       "<style scoped>\n",
       "    .dataframe tbody tr th:only-of-type {\n",
       "        vertical-align: middle;\n",
       "    }\n",
       "\n",
       "    .dataframe tbody tr th {\n",
       "        vertical-align: top;\n",
       "    }\n",
       "\n",
       "    .dataframe thead th {\n",
       "        text-align: right;\n",
       "    }\n",
       "</style>\n",
       "<table border=\"1\" class=\"dataframe\">\n",
       "  <thead>\n",
       "    <tr style=\"text-align: right;\">\n",
       "      <th></th>\n",
       "      <th>A</th>\n",
       "      <th>B</th>\n",
       "      <th>C</th>\n",
       "      <th>D</th>\n",
       "      <th>E</th>\n",
       "    </tr>\n",
       "  </thead>\n",
       "  <tbody>\n",
       "    <tr>\n",
       "      <th>0</th>\n",
       "      <td>72.0</td>\n",
       "      <td>79</td>\n",
       "      <td>11.0</td>\n",
       "      <td>53.0</td>\n",
       "      <td>test</td>\n",
       "    </tr>\n",
       "    <tr>\n",
       "      <th>1</th>\n",
       "      <td>NaN</td>\n",
       "      <td>35</td>\n",
       "      <td>93.0</td>\n",
       "      <td>20.0</td>\n",
       "      <td>51</td>\n",
       "    </tr>\n",
       "    <tr>\n",
       "      <th>2</th>\n",
       "      <td>21.0</td>\n",
       "      <td>error</td>\n",
       "      <td>50.0</td>\n",
       "      <td>44.0</td>\n",
       "      <td>11</td>\n",
       "    </tr>\n",
       "    <tr>\n",
       "      <th>3</th>\n",
       "      <td>98.0</td>\n",
       "      <td>46</td>\n",
       "      <td>78.0</td>\n",
       "      <td>65.0</td>\n",
       "      <td>81</td>\n",
       "    </tr>\n",
       "    <tr>\n",
       "      <th>4</th>\n",
       "      <td>63.0</td>\n",
       "      <td>13</td>\n",
       "      <td>100.0</td>\n",
       "      <td>NaN</td>\n",
       "      <td>95</td>\n",
       "    </tr>\n",
       "  </tbody>\n",
       "</table>\n",
       "</div>"
      ],
      "text/plain": [
       "      A      B      C     D     E\n",
       "0  72.0     79   11.0  53.0  test\n",
       "1   NaN     35   93.0  20.0    51\n",
       "2  21.0  error   50.0  44.0    11\n",
       "3  98.0     46   78.0  65.0    81\n",
       "4  63.0     13  100.0   NaN    95"
      ]
     },
     "execution_count": 1,
     "metadata": {},
     "output_type": "execute_result"
    }
   ],
   "source": [
    "import pandas as pd\n",
    "\n",
    "# Load the dataset using pandas\n",
    "\n",
    "df = pd.read_csv('../data/data_cleaning_example.csv')\n",
    "df.head()"
   ]
  },
  {
   "cell_type": "code",
   "execution_count": 2,
   "metadata": {
    "collapsed": false,
    "jupyter": {
     "outputs_hidden": false
    }
   },
   "outputs": [
    {
     "data": {
      "text/html": [
       "<div>\n",
       "<style scoped>\n",
       "    .dataframe tbody tr th:only-of-type {\n",
       "        vertical-align: middle;\n",
       "    }\n",
       "\n",
       "    .dataframe tbody tr th {\n",
       "        vertical-align: top;\n",
       "    }\n",
       "\n",
       "    .dataframe thead th {\n",
       "        text-align: right;\n",
       "    }\n",
       "</style>\n",
       "<table border=\"1\" class=\"dataframe\">\n",
       "  <thead>\n",
       "    <tr style=\"text-align: right;\">\n",
       "      <th></th>\n",
       "      <th>A</th>\n",
       "      <th>B</th>\n",
       "      <th>C</th>\n",
       "      <th>D</th>\n",
       "      <th>E</th>\n",
       "    </tr>\n",
       "  </thead>\n",
       "  <tbody>\n",
       "    <tr>\n",
       "      <th>0</th>\n",
       "      <td>72.0</td>\n",
       "      <td>79</td>\n",
       "      <td>11.0</td>\n",
       "      <td>53.0</td>\n",
       "      <td>test</td>\n",
       "    </tr>\n",
       "    <tr>\n",
       "      <th>2</th>\n",
       "      <td>21.0</td>\n",
       "      <td>error</td>\n",
       "      <td>50.0</td>\n",
       "      <td>44.0</td>\n",
       "      <td>11</td>\n",
       "    </tr>\n",
       "    <tr>\n",
       "      <th>3</th>\n",
       "      <td>98.0</td>\n",
       "      <td>46</td>\n",
       "      <td>78.0</td>\n",
       "      <td>65.0</td>\n",
       "      <td>81</td>\n",
       "    </tr>\n",
       "    <tr>\n",
       "      <th>5</th>\n",
       "      <td>93.0</td>\n",
       "      <td>66</td>\n",
       "      <td>5.0</td>\n",
       "      <td>69.0</td>\n",
       "      <td>67</td>\n",
       "    </tr>\n",
       "    <tr>\n",
       "      <th>7</th>\n",
       "      <td>21.0</td>\n",
       "      <td>59</td>\n",
       "      <td>27.0</td>\n",
       "      <td>96.0</td>\n",
       "      <td>0</td>\n",
       "    </tr>\n",
       "  </tbody>\n",
       "</table>\n",
       "</div>"
      ],
      "text/plain": [
       "      A      B     C     D     E\n",
       "0  72.0     79  11.0  53.0  test\n",
       "2  21.0  error  50.0  44.0    11\n",
       "3  98.0     46  78.0  65.0    81\n",
       "5  93.0     66   5.0  69.0    67\n",
       "7  21.0     59  27.0  96.0     0"
      ]
     },
     "execution_count": 2,
     "metadata": {},
     "output_type": "execute_result"
    }
   ],
   "source": [
    "# Handle missing values\n",
    "\n",
    "df = df.dropna()  # Drop rows with missing values\n",
    "df.head()"
   ]
  },
  {
   "cell_type": "code",
   "execution_count": 3,
   "metadata": {
    "collapsed": false,
    "jupyter": {
     "outputs_hidden": false
    }
   },
   "outputs": [
    {
     "data": {
      "text/html": [
       "<div>\n",
       "<style scoped>\n",
       "    .dataframe tbody tr th:only-of-type {\n",
       "        vertical-align: middle;\n",
       "    }\n",
       "\n",
       "    .dataframe tbody tr th {\n",
       "        vertical-align: top;\n",
       "    }\n",
       "\n",
       "    .dataframe thead th {\n",
       "        text-align: right;\n",
       "    }\n",
       "</style>\n",
       "<table border=\"1\" class=\"dataframe\">\n",
       "  <thead>\n",
       "    <tr style=\"text-align: right;\">\n",
       "      <th></th>\n",
       "      <th>A</th>\n",
       "      <th>B</th>\n",
       "      <th>C</th>\n",
       "      <th>D</th>\n",
       "      <th>E</th>\n",
       "    </tr>\n",
       "  </thead>\n",
       "  <tbody>\n",
       "    <tr>\n",
       "      <th>0</th>\n",
       "      <td>72.0</td>\n",
       "      <td>79</td>\n",
       "      <td>11.0</td>\n",
       "      <td>53.0</td>\n",
       "      <td>test</td>\n",
       "    </tr>\n",
       "    <tr>\n",
       "      <th>2</th>\n",
       "      <td>21.0</td>\n",
       "      <td>error</td>\n",
       "      <td>50.0</td>\n",
       "      <td>44.0</td>\n",
       "      <td>11</td>\n",
       "    </tr>\n",
       "    <tr>\n",
       "      <th>7</th>\n",
       "      <td>21.0</td>\n",
       "      <td>59</td>\n",
       "      <td>27.0</td>\n",
       "      <td>96.0</td>\n",
       "      <td>0</td>\n",
       "    </tr>\n",
       "    <tr>\n",
       "      <th>9</th>\n",
       "      <td>29.0</td>\n",
       "      <td>test</td>\n",
       "      <td>100.0</td>\n",
       "      <td>9.0</td>\n",
       "      <td>71</td>\n",
       "    </tr>\n",
       "    <tr>\n",
       "      <th>10</th>\n",
       "      <td>86.0</td>\n",
       "      <td>3</td>\n",
       "      <td>51.0</td>\n",
       "      <td>73.0</td>\n",
       "      <td>3</td>\n",
       "    </tr>\n",
       "  </tbody>\n",
       "</table>\n",
       "</div>"
      ],
      "text/plain": [
       "       A      B      C     D     E\n",
       "0   72.0     79   11.0  53.0  test\n",
       "2   21.0  error   50.0  44.0    11\n",
       "7   21.0     59   27.0  96.0     0\n",
       "9   29.0   test  100.0   9.0    71\n",
       "10  86.0      3   51.0  73.0     3"
      ]
     },
     "execution_count": 3,
     "metadata": {},
     "output_type": "execute_result"
    }
   ],
   "source": [
    "# Handle outliers\n",
    "\n",
    "df = df[df['A'] < df['A'].quantile(0.90)]  # Drop rows with values in the 'A' column that is greater than the 90th percentile\n",
    "df.head()"
   ]
  },
  {
   "cell_type": "code",
   "execution_count": 4,
   "metadata": {
    "collapsed": false,
    "jupyter": {
     "outputs_hidden": false
    }
   },
   "outputs": [
    {
     "data": {
      "text/html": [
       "<div>\n",
       "<style scoped>\n",
       "    .dataframe tbody tr th:only-of-type {\n",
       "        vertical-align: middle;\n",
       "    }\n",
       "\n",
       "    .dataframe tbody tr th {\n",
       "        vertical-align: top;\n",
       "    }\n",
       "\n",
       "    .dataframe thead th {\n",
       "        text-align: right;\n",
       "    }\n",
       "</style>\n",
       "<table border=\"1\" class=\"dataframe\">\n",
       "  <thead>\n",
       "    <tr style=\"text-align: right;\">\n",
       "      <th></th>\n",
       "      <th>A</th>\n",
       "      <th>B</th>\n",
       "      <th>C</th>\n",
       "      <th>D</th>\n",
       "      <th>E</th>\n",
       "    </tr>\n",
       "  </thead>\n",
       "  <tbody>\n",
       "    <tr>\n",
       "      <th>0</th>\n",
       "      <td>72.0</td>\n",
       "      <td>79</td>\n",
       "      <td>11.0</td>\n",
       "      <td>53.0</td>\n",
       "      <td>test</td>\n",
       "    </tr>\n",
       "    <tr>\n",
       "      <th>7</th>\n",
       "      <td>21.0</td>\n",
       "      <td>59</td>\n",
       "      <td>27.0</td>\n",
       "      <td>96.0</td>\n",
       "      <td>0</td>\n",
       "    </tr>\n",
       "    <tr>\n",
       "      <th>10</th>\n",
       "      <td>86.0</td>\n",
       "      <td>3</td>\n",
       "      <td>51.0</td>\n",
       "      <td>73.0</td>\n",
       "      <td>3</td>\n",
       "    </tr>\n",
       "    <tr>\n",
       "      <th>11</th>\n",
       "      <td>68.0</td>\n",
       "      <td>42</td>\n",
       "      <td>54.0</td>\n",
       "      <td>95.0</td>\n",
       "      <td>33</td>\n",
       "    </tr>\n",
       "    <tr>\n",
       "      <th>12</th>\n",
       "      <td>3.0</td>\n",
       "      <td>46</td>\n",
       "      <td>42.0</td>\n",
       "      <td>33.0</td>\n",
       "      <td>60</td>\n",
       "    </tr>\n",
       "  </tbody>\n",
       "</table>\n",
       "</div>"
      ],
      "text/plain": [
       "       A   B     C     D     E\n",
       "0   72.0  79  11.0  53.0  test\n",
       "7   21.0  59  27.0  96.0     0\n",
       "10  86.0   3  51.0  73.0     3\n",
       "11  68.0  42  54.0  95.0    33\n",
       "12   3.0  46  42.0  33.0    60"
      ]
     },
     "execution_count": 4,
     "metadata": {},
     "output_type": "execute_result"
    }
   ],
   "source": [
    "# Handle errors\n",
    "df = df[df['B'].apply(lambda x: x.isnumeric())] # Remove rows with non-numeric values in the 'B' column\n",
    "df.head()"
   ]
  },
  {
   "cell_type": "markdown",
   "metadata": {},
   "source": [
    "## Future selection\n",
    "\n",
    "Feature selection can have a significant impact on the performance and interpretability of a model. By learning about different techniques and considerations for feature selection, you can develop the skills and knowledge necessary to effectively select and use the most relevant features in a machine learning projects. We will also talk about future selection when we get to the part on regularisation in lecture 3.\n",
    "\n",
    "When building a classification model, it is important to select features that are able to distinguish between the different classes. For a regression model, it is important to select features that are correlated with the target variable. You should be aware of the potential risks of using too few or too many features, as this can affect the model's performance.\n",
    "\n",
    "We can look at an example of future selection using the iris dataset. This dataset is a widely used for demonstrating machine learning techniques. It contains measurements of 150 iris flowers from three different species: Setosa, Versicolor, and Virginica. The measurements include the length and width of the petals and sepals, which are the structures that support the flower. The dataset is often used in classification tasks, where the goal is to predict the species of an iris flower based on its measurements. The iris dataset is considered to be a fairly easy dataset, as the three species of iris are relatively well separated and the task of classifying them is not too difficult. It is often used as a baseline or benchmark for comparing the performance of different machine learning algorithms.\n",
    "\n",
    "Here we use Scikit-learn to select two out of the four futures in this dataset:"
   ]
  },
  {
   "cell_type": "code",
   "execution_count": 6,
   "metadata": {
    "collapsed": false,
    "jupyter": {
     "outputs_hidden": false
    }
   },
   "outputs": [
    {
     "name": "stdout",
     "output_type": "stream",
     "text": [
      "['sepal length (cm)', 'sepal width (cm)', 'petal length (cm)', 'petal width (cm)']\n"
     ]
    }
   ],
   "source": [
    "from sklearn.datasets import load_iris\n",
    "from sklearn.feature_selection import SelectKBest\n",
    "from sklearn.feature_selection import chi2\n",
    "\n",
    "# Load the iris dataset\n",
    "iris = load_iris()\n",
    "X = iris.data\n",
    "y = iris.target\n",
    "\n",
    "# Select the top 2 features using chi-squared test\n",
    "selector = SelectKBest(chi2, k=4)\n",
    "X_new = selector.fit_transform(X, y)\n",
    "\n",
    "# Get the selected feature names\n",
    "selected_feature_names = [iris.feature_names[i] for i in range(len(iris.feature_names)) if selector.get_support()[i]]\n",
    "print(selected_feature_names)"
   ]
  },
  {
   "cell_type": "markdown",
   "metadata": {},
   "source": [
    "In this example, we use the `load_iris` function to load the iris dataset, which includes features and target variables. We then use the `SelectKBest` class and the chi-squared test to select the top 2 features, and use the fit_transform method to fit the model to the data and transform the data by selecting the top 2 features. Finally, we use the `get_support` method to get the names of the selected features.\n",
    "\n",
    "The chi-squared test is a statistical test used to determine whether there is a significant difference between the observed frequencies of a categorical variable and the expected frequencies of the variable, based on some underlying distribution or hypothesis.\n",
    "\n",
    "In the context of feature selection, the chi-squared test can be used to select the features that are most correlated with the target variable. The test calculates the chi-squared statistic for each feature, which is a measure of the difference between the observed and expected frequencies of the values of the feature and the target variable. The features with the highest chi-squared statistic are considered the most important for predicting the target variable, and can be selected for use in a model.\n",
    "\n",
    "The chi-squared test is often used in machine learning to select features for classification models, as it can be used to identify the features that are most correlated with the class labels. It is particularly useful for selecting features from a dataset with a large number of features, as it can help to reduce the dimensionality of the data and improve the performance of the model."
   ]
  },
  {
   "cell_type": "markdown",
   "metadata": {},
   "source": [
    "## Data splitting\n",
    "\n"
   ]
  },
  {
   "cell_type": "markdown",
   "metadata": {},
   "source": [
    "Data splitting involves dividing a dataset into separate training and testing sets. Sometimes we also use a validation set. The training set is used to train the model, the validation sample is used to tune the hyperparameters, and the testing set is used to evaluate the final performance of the model on unseen data.\n",
    "\n",
    "Using a validation sample can help to prevent overfitting, which is when the model performs well on the training data but poorly on the test data, by allowing the model to be fine-tuned to the characteristics of the training data without being overfitted to it. The model is trained using the training set, and the performance is evaluated on the validation sample. The model's hyperparameters are then adjusted based on the results of the evaluation, and the model is retrained using the updated hyperparameters. This process is repeated until the model's performance on the validation sample is satisfactory.\n",
    "\n",
    "Data splitting is important because it allows you to evaluate the generalization ability of the model, which is how well the model can make predictions on unseen data. This is important because you want your model to be able to generalize to new data, rather than just memorizing the training data.\n",
    "\n",
    "There are several ways to split the data, including simple random sampling, stratified sampling, and k-fold cross-validation. Simple random sampling involves randomly selecting a percentage of the data for the training set and the remaining data for the testing set. Stratified sampling involves sampling the data in such a way that the proportion of each class in the training and testing sets is the same as in the original dataset. K-fold cross-validation involves dividing the data into k folds, training the model on k-1 folds, and evaluating the model on the remaining fold. This process is repeated k times, with a different fold being used as the testing set each time.\n",
    "\n"
   ]
  },
  {
   "cell_type": "code",
   "execution_count": 6,
   "metadata": {
    "collapsed": false,
    "jupyter": {
     "outputs_hidden": false
    }
   },
   "outputs": [],
   "source": [
    "from sklearn.datasets import load_iris\n",
    "from sklearn.model_selection import train_test_split\n",
    "\n",
    "# Load the iris dataset\n",
    "iris = load_iris()\n",
    "X = iris.data\n",
    "y = iris.target\n",
    "\n",
    "# Split the data into training and testing sets\n",
    "X_train, X_test, y_train, y_test = train_test_split(X, y, test_size=0.2, random_state=42)"
   ]
  },
  {
   "cell_type": "markdown",
   "metadata": {},
   "source": [
    "In this example, we use the `train_test_split` function from scikit-learn's model selection module to split the data into training and testing sets. The `test_size` parameter specifies the proportion of the data that should be used for the test set (in this case, 20 %), and the `random_state` parameter specifies the random seed to use when shuffling the data before splitting it.\n",
    "\n",
    "The `train_test_split` function returns four arrays: `X_train`, which contains the training data, `X_test`, which contains the testing data, `y_train`, which contains the training labels, and `y_test`, which contains the testing labels."
   ]
  },
  {
   "cell_type": "markdown",
   "metadata": {},
   "source": [
    "## Data transformations\n",
    "\n",
    "Data transformation is the process of transforming raw data into a form that is more suitable for analysis or modeling. There are various techniques that can be used to transform data, including scaling, aggregation, and feature engineering.\n",
    "\n",
    "**Scaling** is the process of transforming the data so that all the features have the same scale. This is often necessary because some machine learning algorithms are sensitive to the scale of the input features. There are several scaling techniques that can be used, such as min-max scaling and standardization. Min-max scaling, scales the data to a fixed range, usually between 0 and 1. Standardization scales the data so that it has zero mean and unit variance.\n",
    "\n",
    "**Aggregation** is the process of combining data from multiple sources or time periods or grouping data by certain attributes. Aggregation can be used to reduce the dimensionality of the data and simplify the analysis process.\n",
    "\n",
    "**Feature engineering** is the process of creating new features from the existing data. This can be done by combining existing features, extracting features from text or images, or creating synthetic features using domain knowledge. It can help to improve the performance of the model by providing additional information."
   ]
  },
  {
   "cell_type": "code",
   "execution_count": 7,
   "metadata": {
    "collapsed": false,
    "jupyter": {
     "outputs_hidden": false
    }
   },
   "outputs": [
    {
     "name": "stdout",
     "output_type": "stream",
     "text": [
      "[[5.1 3.5 1.4 0.2]\n",
      " [4.9 3.  1.4 0.2]\n",
      " [4.7 3.2 1.3 0.2]\n",
      " [4.6 3.1 1.5 0.2]\n",
      " [5.  3.6 1.4 0.2]]\n",
      "[[0.22222222 0.625      0.06779661 0.04166667]\n",
      " [0.16666667 0.41666667 0.06779661 0.04166667]\n",
      " [0.11111111 0.5        0.05084746 0.04166667]\n",
      " [0.08333333 0.45833333 0.08474576 0.04166667]\n",
      " [0.19444444 0.66666667 0.06779661 0.04166667]]\n"
     ]
    }
   ],
   "source": [
    "from sklearn.datasets import load_iris\n",
    "from sklearn.preprocessing import MinMaxScaler\n",
    "\n",
    "# Load the iris dataset\n",
    "iris = load_iris()\n",
    "X = iris.data\n",
    "\n",
    "# Scale the data using min-max scaling\n",
    "scaler = MinMaxScaler()\n",
    "X_scaled = scaler.fit_transform(X)\n",
    "print(X[0:5])\n",
    "print(X_scaled[0:5])"
   ]
  }
 ],
 "metadata": {
  "kernelspec": {
   "display_name": "Python 3 (ipykernel)",
   "language": "python",
   "name": "python3"
  },
  "language_info": {
   "codemirror_mode": {
    "name": "ipython",
    "version": 3
   },
   "file_extension": ".py",
   "mimetype": "text/x-python",
   "name": "python",
   "nbconvert_exporter": "python",
   "pygments_lexer": "ipython3",
   "version": "3.9.18"
  }
 },
 "nbformat": 4,
 "nbformat_minor": 4
}
